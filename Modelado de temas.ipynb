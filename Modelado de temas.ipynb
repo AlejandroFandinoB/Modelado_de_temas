{
 "cells": [
  {
   "cell_type": "markdown",
   "metadata": {},
   "source": [
    "<div style=\"text-align:center; color:  #13476a ; font-size:20px\">\n",
    "\n",
    "<h1> Modelado de temas  </h1> \n",
    "\n",
    "Alejandro Fandiño B\n",
    "    \n",
    "</div>\n",
    "\n",
    "<h5> </h5>\n",
    "\n",
    "- Hacer pre-procesamiento del texto\n",
    "\n",
    "- Modelo de LDA\n",
    "\n",
    "- Visualización de LDA"
   ]
  },
  {
   "cell_type": "code",
   "execution_count": 1,
   "metadata": {},
   "outputs": [
    {
     "name": "stderr",
     "output_type": "stream",
     "text": [
      "C:\\Users\\ALEJANDRO\\anaconda3\\lib\\site-packages\\scipy\\sparse\\sparsetools.py:21: DeprecationWarning: `scipy.sparse.sparsetools` is deprecated!\n",
      "scipy.sparse.sparsetools is a private module for scipy.sparse, and should not be used.\n",
      "  _deprecated()\n"
     ]
    }
   ],
   "source": [
    "import re\n",
    "import pandas as pd \n",
    "from pprint import pprint\n",
    "\n",
    "from nltk.corpus import stopwords\n",
    "stopwords = stopwords.words('spanish')\n",
    "\n",
    "import pyLDAvis.gensim\n",
    "from gensim.models import LdaModel\n",
    "from gensim.corpora import Dictionary\n",
    "\n",
    "import warnings\n",
    "warnings.filterwarnings(\"ignore\", category=DeprecationWarning)"
   ]
  },
  {
   "cell_type": "code",
   "execution_count": 2,
   "metadata": {},
   "outputs": [
    {
     "data": {
      "text/html": [
       "<div>\n",
       "<style scoped>\n",
       "    .dataframe tbody tr th:only-of-type {\n",
       "        vertical-align: middle;\n",
       "    }\n",
       "\n",
       "    .dataframe tbody tr th {\n",
       "        vertical-align: top;\n",
       "    }\n",
       "\n",
       "    .dataframe thead th {\n",
       "        text-align: right;\n",
       "    }\n",
       "</style>\n",
       "<table border=\"1\" class=\"dataframe\">\n",
       "  <thead>\n",
       "    <tr style=\"text-align: right;\">\n",
       "      <th></th>\n",
       "      <th>review_id</th>\n",
       "      <th>product_id</th>\n",
       "      <th>reviewer_id</th>\n",
       "      <th>stars</th>\n",
       "      <th>review_body</th>\n",
       "      <th>review_title</th>\n",
       "      <th>language</th>\n",
       "      <th>product_category</th>\n",
       "    </tr>\n",
       "  </thead>\n",
       "  <tbody>\n",
       "    <tr>\n",
       "      <th>0</th>\n",
       "      <td>es_0825565</td>\n",
       "      <td>product_es_0370490</td>\n",
       "      <td>reviewer_es_0174781</td>\n",
       "      <td>3</td>\n",
       "      <td>Buen. Buena calidad, y buena presentación.</td>\n",
       "      <td>Contenta</td>\n",
       "      <td>es</td>\n",
       "      <td>jewelry</td>\n",
       "    </tr>\n",
       "    <tr>\n",
       "      <th>1</th>\n",
       "      <td>es_0227934</td>\n",
       "      <td>product_es_0354224</td>\n",
       "      <td>reviewer_es_0411613</td>\n",
       "      <td>3</td>\n",
       "      <td>Un producto a perfecto, para salir de casa con...</td>\n",
       "      <td>Versatilidad</td>\n",
       "      <td>es</td>\n",
       "      <td>video_games</td>\n",
       "    </tr>\n",
       "    <tr>\n",
       "      <th>2</th>\n",
       "      <td>es_0468601</td>\n",
       "      <td>product_es_0665460</td>\n",
       "      <td>reviewer_es_0348315</td>\n",
       "      <td>1</td>\n",
       "      <td>No funciona con Nintendo Switch. No hay forma ...</td>\n",
       "      <td>Decepción absoluta</td>\n",
       "      <td>es</td>\n",
       "      <td>video_games</td>\n",
       "    </tr>\n",
       "    <tr>\n",
       "      <th>3</th>\n",
       "      <td>es_0814494</td>\n",
       "      <td>product_es_0692692</td>\n",
       "      <td>reviewer_es_0951508</td>\n",
       "      <td>5</td>\n",
       "      <td>Recomendado, los utilizo para pc y no me dan n...</td>\n",
       "      <td>Auriculares Pecham ps4</td>\n",
       "      <td>es</td>\n",
       "      <td>video_games</td>\n",
       "    </tr>\n",
       "    <tr>\n",
       "      <th>4</th>\n",
       "      <td>es_0206329</td>\n",
       "      <td>product_es_0728826</td>\n",
       "      <td>reviewer_es_0493255</td>\n",
       "      <td>4</td>\n",
       "      <td>El cable funciona bien podria ser un poco mas ...</td>\n",
       "      <td>Perfecto</td>\n",
       "      <td>es</td>\n",
       "      <td>video_games</td>\n",
       "    </tr>\n",
       "  </tbody>\n",
       "</table>\n",
       "</div>"
      ],
      "text/plain": [
       "    review_id          product_id          reviewer_id  stars  \\\n",
       "0  es_0825565  product_es_0370490  reviewer_es_0174781      3   \n",
       "1  es_0227934  product_es_0354224  reviewer_es_0411613      3   \n",
       "2  es_0468601  product_es_0665460  reviewer_es_0348315      1   \n",
       "3  es_0814494  product_es_0692692  reviewer_es_0951508      5   \n",
       "4  es_0206329  product_es_0728826  reviewer_es_0493255      4   \n",
       "\n",
       "                                         review_body            review_title  \\\n",
       "0         Buen. Buena calidad, y buena presentación.                Contenta   \n",
       "1  Un producto a perfecto, para salir de casa con...            Versatilidad   \n",
       "2  No funciona con Nintendo Switch. No hay forma ...      Decepción absoluta   \n",
       "3  Recomendado, los utilizo para pc y no me dan n...  Auriculares Pecham ps4   \n",
       "4  El cable funciona bien podria ser un poco mas ...                Perfecto   \n",
       "\n",
       "  language product_category  \n",
       "0       es          jewelry  \n",
       "1       es      video_games  \n",
       "2       es      video_games  \n",
       "3       es      video_games  \n",
       "4       es      video_games  "
      ]
     },
     "execution_count": 2,
     "metadata": {},
     "output_type": "execute_result"
    }
   ],
   "source": [
    "path = 'reviews_vidjew_es.csv'\n",
    "data = pd.read_csv(path)\n",
    "data.head()"
   ]
  },
  {
   "cell_type": "markdown",
   "metadata": {},
   "source": [
    "# Punto 1 : Hacer pre-procesamiento del texto"
   ]
  },
  {
   "cell_type": "code",
   "execution_count": 3,
   "metadata": {},
   "outputs": [],
   "source": [
    "def pre_procesado(texto):\n",
    "    texto = texto.lower()\n",
    "    texto = re.sub(r\"[\\W\\d_]+\", \" \", texto)\n",
    "    texto = [palabra for palabra in texto.split() if palabra not in stopwords]\n",
    "    return texto"
   ]
  },
  {
   "cell_type": "code",
   "execution_count": 5,
   "metadata": {},
   "outputs": [
    {
     "data": {
      "text/html": [
       "<div>\n",
       "<style scoped>\n",
       "    .dataframe tbody tr th:only-of-type {\n",
       "        vertical-align: middle;\n",
       "    }\n",
       "\n",
       "    .dataframe tbody tr th {\n",
       "        vertical-align: top;\n",
       "    }\n",
       "\n",
       "    .dataframe thead th {\n",
       "        text-align: right;\n",
       "    }\n",
       "</style>\n",
       "<table border=\"1\" class=\"dataframe\">\n",
       "  <thead>\n",
       "    <tr style=\"text-align: right;\">\n",
       "      <th></th>\n",
       "      <th>review_id</th>\n",
       "      <th>product_id</th>\n",
       "      <th>reviewer_id</th>\n",
       "      <th>stars</th>\n",
       "      <th>review_body</th>\n",
       "      <th>review_title</th>\n",
       "      <th>language</th>\n",
       "      <th>product_category</th>\n",
       "      <th>pp</th>\n",
       "    </tr>\n",
       "  </thead>\n",
       "  <tbody>\n",
       "    <tr>\n",
       "      <th>0</th>\n",
       "      <td>es_0825565</td>\n",
       "      <td>product_es_0370490</td>\n",
       "      <td>reviewer_es_0174781</td>\n",
       "      <td>3</td>\n",
       "      <td>Buen. Buena calidad, y buena presentación.</td>\n",
       "      <td>Contenta</td>\n",
       "      <td>es</td>\n",
       "      <td>jewelry</td>\n",
       "      <td>[buen, buena, calidad, buena, presentación]</td>\n",
       "    </tr>\n",
       "    <tr>\n",
       "      <th>1</th>\n",
       "      <td>es_0227934</td>\n",
       "      <td>product_es_0354224</td>\n",
       "      <td>reviewer_es_0411613</td>\n",
       "      <td>3</td>\n",
       "      <td>Un producto a perfecto, para salir de casa con...</td>\n",
       "      <td>Versatilidad</td>\n",
       "      <td>es</td>\n",
       "      <td>video_games</td>\n",
       "      <td>[producto, perfecto, salir, casa, nintendo, sw...</td>\n",
       "    </tr>\n",
       "    <tr>\n",
       "      <th>2</th>\n",
       "      <td>es_0468601</td>\n",
       "      <td>product_es_0665460</td>\n",
       "      <td>reviewer_es_0348315</td>\n",
       "      <td>1</td>\n",
       "      <td>No funciona con Nintendo Switch. No hay forma ...</td>\n",
       "      <td>Decepción absoluta</td>\n",
       "      <td>es</td>\n",
       "      <td>video_games</td>\n",
       "      <td>[funciona, nintendo, switch, forma, emparejarl...</td>\n",
       "    </tr>\n",
       "    <tr>\n",
       "      <th>3</th>\n",
       "      <td>es_0814494</td>\n",
       "      <td>product_es_0692692</td>\n",
       "      <td>reviewer_es_0951508</td>\n",
       "      <td>5</td>\n",
       "      <td>Recomendado, los utilizo para pc y no me dan n...</td>\n",
       "      <td>Auriculares Pecham ps4</td>\n",
       "      <td>es</td>\n",
       "      <td>video_games</td>\n",
       "      <td>[recomendado, utilizo, pc, dan, ningún, proble...</td>\n",
       "    </tr>\n",
       "    <tr>\n",
       "      <th>4</th>\n",
       "      <td>es_0206329</td>\n",
       "      <td>product_es_0728826</td>\n",
       "      <td>reviewer_es_0493255</td>\n",
       "      <td>4</td>\n",
       "      <td>El cable funciona bien podria ser un poco mas ...</td>\n",
       "      <td>Perfecto</td>\n",
       "      <td>es</td>\n",
       "      <td>video_games</td>\n",
       "      <td>[cable, funciona, bien, podria, ser, mas, larg...</td>\n",
       "    </tr>\n",
       "  </tbody>\n",
       "</table>\n",
       "</div>"
      ],
      "text/plain": [
       "    review_id          product_id          reviewer_id  stars  \\\n",
       "0  es_0825565  product_es_0370490  reviewer_es_0174781      3   \n",
       "1  es_0227934  product_es_0354224  reviewer_es_0411613      3   \n",
       "2  es_0468601  product_es_0665460  reviewer_es_0348315      1   \n",
       "3  es_0814494  product_es_0692692  reviewer_es_0951508      5   \n",
       "4  es_0206329  product_es_0728826  reviewer_es_0493255      4   \n",
       "\n",
       "                                         review_body            review_title  \\\n",
       "0         Buen. Buena calidad, y buena presentación.                Contenta   \n",
       "1  Un producto a perfecto, para salir de casa con...            Versatilidad   \n",
       "2  No funciona con Nintendo Switch. No hay forma ...      Decepción absoluta   \n",
       "3  Recomendado, los utilizo para pc y no me dan n...  Auriculares Pecham ps4   \n",
       "4  El cable funciona bien podria ser un poco mas ...                Perfecto   \n",
       "\n",
       "  language product_category                                                 pp  \n",
       "0       es          jewelry        [buen, buena, calidad, buena, presentación]  \n",
       "1       es      video_games  [producto, perfecto, salir, casa, nintendo, sw...  \n",
       "2       es      video_games  [funciona, nintendo, switch, forma, emparejarl...  \n",
       "3       es      video_games  [recomendado, utilizo, pc, dan, ningún, proble...  \n",
       "4       es      video_games  [cable, funciona, bien, podria, ser, mas, larg...  "
      ]
     },
     "execution_count": 5,
     "metadata": {},
     "output_type": "execute_result"
    }
   ],
   "source": [
    "\n",
    "data['pp'] = data['review_body'].apply(lambda texto: pre_procesado(texto))\n",
    "\n",
    "data.head()"
   ]
  },
  {
   "cell_type": "markdown",
   "metadata": {},
   "source": [
    "# Punto 2"
   ]
  },
  {
   "cell_type": "code",
   "execution_count": 8,
   "metadata": {},
   "outputs": [
    {
     "data": {
      "text/plain": [
       "<gensim.corpora.dictionary.Dictionary at 0x1e2fd8912b0>"
      ]
     },
     "execution_count": 8,
     "metadata": {},
     "output_type": "execute_result"
    }
   ],
   "source": [
    "# Representación de los documentos en forma de diccionario\n",
    "dictionary = Dictionary(data['pp'].values)\n",
    "dictionary"
   ]
  },
  {
   "cell_type": "code",
   "execution_count": 11,
   "metadata": {},
   "outputs": [],
   "source": [
    "# Filtrar palabras muy frecuentes o infrecuentes\n",
    "dictionary.filter_extremes(no_below=5, no_above=0.5)\n",
    "\n",
    "corpus = [dictionary.doc2bow(text) for text in data['pp'].values]\n"
   ]
  },
  {
   "cell_type": "code",
   "execution_count": 12,
   "metadata": {},
   "outputs": [],
   "source": [
    "# Train the topic model\n",
    "model = LdaModel(corpus=corpus, id2word=dictionary, num_topics=7, passes=4)\n"
   ]
  },
  {
   "cell_type": "code",
   "execution_count": 13,
   "metadata": {},
   "outputs": [
    {
     "data": {
      "text/plain": [
       "[(0,\n",
       "  '0.047*\"calidad\" + 0.030*\"precio\" + 0.023*\"si\" + 0.022*\"producto\" + 0.021*\"regalo\" + 0.017*\"buena\" + 0.016*\"bien\" + 0.014*\"bonito\" + 0.014*\"plata\" + 0.013*\"pulsera\"'),\n",
       " (1,\n",
       "  '0.029*\"calidad\" + 0.026*\"juego\" + 0.023*\"bien\" + 0.021*\"ps\" + 0.018*\"foto\" + 0.015*\"pedido\" + 0.015*\"precio\" + 0.014*\"mas\" + 0.013*\"jugar\" + 0.013*\"buena\"'),\n",
       " (2,\n",
       "  '0.032*\"precio\" + 0.025*\"producto\" + 0.022*\"calidad\" + 0.019*\"bonitos\" + 0.018*\"compra\" + 0.016*\"cadena\" + 0.014*\"foto\" + 0.014*\"aunque\" + 0.013*\"buen\" + 0.013*\"colgante\"'),\n",
       " (3,\n",
       "  '0.039*\"llegado\" + 0.029*\"bonito\" + 0.022*\"día\" + 0.016*\"bien\" + 0.015*\"calidad\" + 0.013*\"amazon\" + 0.013*\"todavía\" + 0.013*\"buena\" + 0.013*\"entrega\" + 0.010*\"si\"'),\n",
       " (4,\n",
       "  '0.032*\"bien\" + 0.018*\"juego\" + 0.018*\"parece\" + 0.018*\"calidad\" + 0.016*\"bastante\" + 0.016*\"precio\" + 0.014*\"buena\" + 0.013*\"pena\" + 0.013*\"esperaba\" + 0.013*\"recomiendo\"'),\n",
       " (5,\n",
       "  '0.048*\"bien\" + 0.026*\"si\" + 0.021*\"juego\" + 0.015*\"llegó\" + 0.015*\"perfecto\" + 0.015*\"funciona\" + 0.014*\"mando\" + 0.013*\"buen\" + 0.012*\"perfectamente\" + 0.010*\"original\"'),\n",
       " (6,\n",
       "  '0.029*\"bien\" + 0.024*\"juego\" + 0.021*\"producto\" + 0.016*\"comprar\" + 0.016*\"si\" + 0.014*\"solo\" + 0.013*\"caja\" + 0.011*\"mando\" + 0.011*\"después\" + 0.010*\"tal\"')]"
      ]
     },
     "execution_count": 13,
     "metadata": {},
     "output_type": "execute_result"
    }
   ],
   "source": [
    "model.print_topics(num_words=10)"
   ]
  },
  {
   "cell_type": "markdown",
   "metadata": {},
   "source": [
    "# Punto 3"
   ]
  },
  {
   "cell_type": "code",
   "execution_count": 14,
   "metadata": {},
   "outputs": [
    {
     "data": {
      "text/html": [
       "\n",
       "<link rel=\"stylesheet\" type=\"text/css\" href=\"https://cdn.rawgit.com/bmabey/pyLDAvis/files/ldavis.v1.0.0.css\">\n",
       "\n",
       "\n",
       "<div id=\"ldavis_el740420744333052808426371392\"></div>\n",
       "<script type=\"text/javascript\">\n",
       "\n",
       "var ldavis_el740420744333052808426371392_data = {\"mdsDat\": {\"x\": [0.02200264163706875, 0.034127935816459884, 0.08224305465483388, -0.03991780955438395, 0.0750124972141873, -0.021953696359119642, -0.15151462340904615], \"y\": [-0.07089815712561572, 0.11907514961318647, 0.007145578026447645, -0.060601909834539586, -0.06275962871347397, 0.07337121870263659, -0.005332250668641422], \"topics\": [1, 2, 3, 4, 5, 6, 7], \"cluster\": [1, 1, 1, 1, 1, 1, 1], \"Freq\": [18.27434539794922, 16.058393478393555, 15.539950370788574, 13.472583770751953, 13.422447204589844, 13.00058364868164, 10.231705665588379]}, \"tinfo\": {\"Term\": [\"llegado\", \"calidad\", \"bonito\", \"bien\", \"precio\", \"ps\", \"d\\u00eda\", \"comprar\", \"bonitos\", \"producto\", \"pedido\", \"buena\", \"regalo\", \"cadena\", \"juego\", \"foto\", \"todav\\u00eda\", \"pulsera\", \"compra\", \"entrega\", \"espa\\u00f1ol\", \"dise\\u00f1o\", \"cumple\", \"gusto\", \"vendedor\", \"funciona\", \"expectativas\", \"amazon\", \"pena\", \"botones\", \"divertido\", \"c\\u00f3modos\", \"f\\u00e1cil\", \"adapta\", \"puestos\", \"conectar\", \"funcionar\", \"usado\", \"sigue\", \"lado\", \"cierra\", \"elegantes\", \"funciona\", \"\\u00fanica\", \"s\\u00e9\", \"nintendo\", \"misma\", \"sitio\", \"devolverlo\", \"caso\", \"pongo\", \"debido\", \"repartidor\", \"cable\", \"forma\", \"preciosos\", \"hijo\", \"dio\", \"consolas\", \"tres\", \"lleg\\u00f3\", \"usb\", \"quedan\", \"original\", \"bien\", \"perfectamente\", \"si\", \"mando\", \"perfecto\", \"parte\", \"juego\", \"buen\", \"tiempo\", \"tama\\u00f1o\", \"dem\\u00e1s\", \"vez\", \"adem\\u00e1s\", \"viene\", \"bonitos\", \"dos\", \"producto\", \"d\\u00eda\", \"mas\", \"solo\", \"ser\", \"regalo\", \"expectativas\", \"anuncio\", \"toda\", \"vendedor\", \"acabado\", \"hija\", \"cumple\", \"compra\", \"cuello\", \"colores\", \"colgante\", \"precioso\", \"plazo\", \"bonitos\", \"cadena\", \"pesan\", \"exactamente\", \"perlas\", \"cualquier\", \"originales\", \"pedir\", \"descripci\\u00f3n\", \"ve\", \"da\", \"presentaci\\u00f3n\", \"gracias\", \"asi\", \"contenta\", \"pienso\", \"ideal\", \"auriculares\", \"todas\", \"env\\u00edo\", \"peque\\u00f1a\", \"aunque\", \"precio\", \"producto\", \"foto\", \"r\\u00e1pido\", \"buen\", \"calidad\", \"recomendable\", \"puede\", \"regalo\", \"mas\", \"caja\", \"perfectamente\", \"bonita\", \"queda\", \"si\", \"bonito\", \"tiempo\", \"mejor\", \"solo\", \"much\\u00edsimo\", \"castellano\", \"one\", \"bonitas\", \"xbox\", \"gr\\u00e1ficos\", \"media\", \"gente\", \"hecho\", \"buenos\", \"preciosa\", \"edici\\u00f3n\", \"caro\", \"recomiendo\", \"genial\", \"piedras\", \"italiano\", \"quiz\\u00e1\", \"igualmente\", \"pena\", \"conjunto\", \"llevas\", \"embalaje\", \"ir\", \"devuelto\", \"casi\", \"bolsita\", \"esperaba\", \"completo\", \"parece\", \"va\", \"ahora\", \"grande\", \"bastante\", \"llego\", \"gustado\", \"tener\", \"a\\u00fan\", \"compr\\u00e9\", \"bien\", \"buena\", \"perfecto\", \"bueno\", \"regalo\", \"buen\", \"juego\", \"aunque\", \"calidad\", \"precio\", \"verdad\", \"as\\u00ed\", \"mas\", \"pendientes\", \"mejor\", \"producto\", \"viene\", \"puede\", \"si\", \"venia\", \"manera\", \"comprar\", \"pc\", \"cerrar\", \"tiendas\", \"anillo\", \"piedra\", \"dorado\", \"ped\\u00ed\", \"volver\\u00eda\", \"transporte\", \"comprado\", \"horas\", \"sale\", \"buscaba\", \"empresa\", \"p\\u00e9simo\", \"compras\", \"parecido\", \"certificado\", \"cargar\", \"switch\", \"fino\", \"color\", \"roto\", \"tenia\", \"dejado\", \"mayor\", \"fan\", \"muchas\", \"despu\\u00e9s\", \"problema\", \"solo\", \"tal\", \"hacer\", \"caja\", \"uso\", \"juego\", \"producto\", \"bien\", \"amazon\", \"pulsera\", \"mando\", \"as\\u00ed\", \"si\", \"queda\", \"d\\u00eda\", \"dos\", \"cadena\", \"parte\", \"bonito\", \"mejor\", \"precio\", \"foto\", \"compro\", \"ingles\", \"jugabilidad\", \"poca\", \"ps\", \"baja\", \"realidad\", \"ingl\\u00e9s\", \"pedido\", \"espa\\u00f1ol\", \"peor\", \"realmente\", \"pocas\", \"perfecta\", \"sistema\", \"mejores\", \"pulseras\", \"gusto\", \"apenas\", \"pantalla\", \"entra\", \"esperado\", \"aceptable\", \"ni\\u00f1os\", \"primera\", \"gran\", \"tan\", \"ruido\", \"interesante\", \"ajusta\", \"imagen\", \"peque\\u00f1os\", \"jugar\", \"foto\", \"tampoco\", \"demasiado\", \"versi\\u00f3n\", \"juego\", \"calidad\", \"mas\", \"bien\", \"bastante\", \"buena\", \"ser\", \"precio\", \"material\", \"fotos\", \"puede\", \"si\", \"solo\", \"perfecto\", \"viene\", \"pulsera\", \"parece\", \"esperaba\", \"sido\", \"encant\\u00f3\", \"hora\", \"condiciones\", \"piel\", \"dise\\u00f1o\", \"botones\", \"acero\", \"recomendado\", \"fatal\", \"rompio\", \"c\\u00f3mo\", \"elegante\", \"bajo\", \"tacto\", \"mientras\", \"cuesta\", \"bolsa\", \"opinar\", \"relaci\\u00f3n\", \"rapidez\", \"costado\", \"ideal\", \"mu\\u00f1eca\", \"ningun\", \"quieres\", \"fea\", \"alguien\", \"mala\", \"compre\", \"encanta\", \"juegos\", \"plata\", \"vale\", \"puedo\", \"calidad\", \"regalo\", \"pulsera\", \"precio\", \"buena\", \"producto\", \"si\", \"puesto\", \"bonito\", \"trae\", \"dia\", \"menos\", \"bien\", \"pueden\", \"gustado\", \"comprar\", \"d\\u00eda\", \"mando\", \"sido\", \"bastante\", \"dos\", \"pena\", \"queda\", \"todav\\u00eda\", \"encajan\", \"sirve\", \"semana\", \"puse\", \"jugando\", \"mujer\", \"esperando\", \"llegado\", \"siendo\", \"juegazo\", \"paquete\", \"ajustar\", \"perdido\", \"llevo\", \"productos\", \"excesivamente\", \"haber\", \"espero\", \"aun\", \"rompi\\u00f3\", \"corta\", \"recibido\", \"negro\", \"rapido\", \"m\\u00f3viles\", \"perdi\\u00f3\", \"pens\\u00e9\", \"entrega\", \"devolver\", \"bonito\", \"d\\u00eda\", \"fin\", \"amazon\", \"grandes\", \"tama\\u00f1o\", \"buena\", \"dos\", \"gustado\", \"d\\u00edas\", \"mal\", \"calidad\", \"uso\", \"bien\", \"puede\", \"peque\\u00f1o\", \"si\", \"producto\", \"perfecto\", \"juego\"], \"Freq\": [51.0, 142.0, 63.0, 185.0, 115.0, 29.0, 49.0, 25.0, 39.0, 104.0, 24.0, 65.0, 61.0, 33.0, 117.0, 52.0, 12.0, 37.0, 34.0, 23.0, 17.0, 19.0, 24.0, 20.0, 19.0, 34.0, 12.0, 34.0, 30.0, 16.0, 5.716118335723877, 6.442683219909668, 7.65342903137207, 4.382988929748535, 5.384098052978516, 6.664342403411865, 5.335086345672607, 3.9639782905578613, 6.245923042297363, 5.383838653564453, 4.67901086807251, 4.6689958572387695, 20.785062789916992, 3.3722496032714844, 3.931596517562866, 9.86644172668457, 5.228239059448242, 5.633349418640137, 4.663451194763184, 8.586445808410645, 5.498779296875, 2.9648325443267822, 2.9822611808776855, 11.853104591369629, 7.867837905883789, 3.85085391998291, 8.095772743225098, 2.849752902984619, 2.8049063682556152, 6.522303581237793, 21.037710189819336, 3.736976146697998, 10.552213668823242, 14.13825511932373, 66.95578002929688, 15.990761756896973, 36.207027435302734, 19.363170623779297, 20.78676986694336, 12.543766975402832, 29.130083084106445, 18.072603225708008, 13.042120933532715, 10.902963638305664, 7.473587512969971, 8.89323616027832, 7.503017902374268, 9.894702911376953, 9.733026504516602, 9.55215835571289, 11.987255096435547, 9.702462196350098, 10.14647388458252, 8.730032920837402, 8.272841453552246, 8.476784706115723, 11.115370750427246, 4.546691417694092, 8.231295585632324, 13.612741470336914, 6.973363399505615, 5.5591278076171875, 15.599677085876465, 21.647634506225586, 3.6028060913085938, 5.8673272132873535, 15.6087064743042, 4.507768154144287, 3.932497024536133, 22.87933349609375, 18.983362197875977, 4.230556964874268, 3.1369082927703857, 3.58376145362854, 5.108907222747803, 4.540709972381592, 10.628870010375977, 6.721658229827881, 11.458660125732422, 9.408612251281738, 4.166635036468506, 10.701762199401855, 3.5008981227874756, 5.708863258361816, 2.573779821395874, 4.2422871589660645, 3.879066228866577, 7.973229885101318, 9.555252075195312, 7.456239223480225, 17.055957794189453, 39.06117248535156, 30.142745971679688, 17.347761154174805, 8.288422584533691, 15.769533157348633, 26.228736877441406, 7.237327575683594, 11.292715072631836, 12.308300971984863, 12.553422927856445, 10.360898971557617, 9.412469863891602, 8.187369346618652, 8.918367385864258, 10.867762565612793, 9.644909858703613, 8.864649772644043, 8.59790325164795, 8.755853652954102, 5.246243476867676, 6.568004131317139, 5.072268962860107, 6.217470169067383, 8.697781562805176, 5.0661702156066895, 3.7443673610687256, 3.74324107170105, 6.171616077423096, 5.4133782386779785, 5.286418437957764, 5.248680114746094, 5.649321556091309, 15.235723495483398, 4.507293224334717, 3.4651999473571777, 4.469093322753906, 2.951845645904541, 2.853811502456665, 15.556975364685059, 2.7905266284942627, 2.774040699005127, 3.9252820014953613, 2.6133482456207275, 4.709561824798584, 6.476027488708496, 2.8813445568084717, 15.31811809539795, 2.8857674598693848, 21.341217041015625, 9.786829948425293, 10.408913612365723, 11.55260944366455, 18.630695343017578, 12.505184173583984, 12.139494895935059, 7.481880187988281, 6.247413158416748, 9.66071891784668, 37.46844482421875, 16.32693099975586, 14.968607902526855, 8.82518482208252, 14.988961219787598, 14.905533790588379, 21.453521728515625, 12.114954948425293, 21.237804412841797, 18.452686309814453, 8.227590560913086, 10.39999008178711, 12.523642539978027, 8.873466491699219, 8.9204740524292, 12.171795845031738, 8.87584400177002, 9.405771255493164, 8.303483009338379, 5.875546455383301, 7.29209566116333, 16.6940860748291, 6.817373752593994, 3.7940256595611572, 3.7870287895202637, 5.073835849761963, 5.55778694152832, 3.4956843852996826, 7.389360427856445, 3.9038894176483154, 3.729344606399536, 7.427443981170654, 4.510523319244385, 5.424217224121094, 2.6847891807556152, 2.6650915145874023, 3.0158913135528564, 2.961003541946411, 3.426112413406372, 2.551375150680542, 3.7937941551208496, 9.292632102966309, 3.77700138092041, 9.341604232788086, 8.508089065551758, 2.4151313304901123, 3.150691032409668, 2.7651326656341553, 2.725001335144043, 7.011123180389404, 10.78650188446045, 9.059103965759277, 14.324820518493652, 10.027289390563965, 7.0806803703308105, 13.56666374206543, 7.782627582550049, 24.782270431518555, 21.009506225585938, 29.83475685119629, 9.599202156066895, 9.851615905761719, 11.113142013549805, 9.563840866088867, 16.0413818359375, 8.592565536499023, 9.848711967468262, 8.836774826049805, 8.085654258728027, 7.788694858551025, 8.776144981384277, 7.44633150100708, 7.665178298950195, 7.18949031829834, 4.665236949920654, 4.5724592208862305, 4.546207904815674, 7.174939155578613, 21.73166847229004, 6.444674491882324, 5.086899757385254, 3.615804433822632, 15.587209701538086, 11.261411666870117, 4.1451263427734375, 5.144629955291748, 3.390568494796753, 3.373371124267578, 3.8493947982788086, 4.896459579467773, 4.3037567138671875, 11.948442459106445, 3.682992458343506, 4.7008771896362305, 2.9569828510284424, 4.304664134979248, 3.3495023250579834, 2.84611177444458, 3.1769280433654785, 9.07194709777832, 11.262290000915527, 3.0979692935943604, 2.6073477268218994, 3.8976004123687744, 5.952325344085693, 9.104717254638672, 13.475668907165527, 18.305288314819336, 5.627845764160156, 10.448314666748047, 5.862905502319336, 26.908205032348633, 29.967838287353516, 14.458311080932617, 23.19544792175293, 11.547407150268555, 12.80801773071289, 9.179058074951172, 15.435296058654785, 6.7775492668151855, 6.31610631942749, 9.2863130569458, 10.618642807006836, 8.2288236618042, 8.613510131835938, 7.316482067108154, 7.123456954956055, 7.307624816894531, 6.66294527053833, 6.404040336608887, 8.942574501037598, 5.516269683837891, 5.174103736877441, 3.6002838611602783, 12.31016731262207, 10.439363479614258, 3.3689005374908447, 4.093707084655762, 4.590786457061768, 3.0170328617095947, 4.512802600860596, 5.026370048522949, 2.837353467941284, 4.625335216522217, 2.7278590202331543, 2.7312886714935303, 3.493356227874756, 2.5950937271118164, 3.815492630004883, 2.523010730743408, 2.513885259628296, 4.143274784088135, 2.429866313934326, 2.822863817214966, 2.7570924758911133, 2.370875835418701, 2.7632029056549072, 10.2246675491333, 5.877198219299316, 3.517819881439209, 9.32561206817627, 13.375103950500488, 7.654903888702393, 8.298359870910645, 46.28334426879883, 20.698387145996094, 12.926312446594238, 29.267192840576172, 16.808210372924805, 21.661876678466797, 22.439579010009766, 5.812024116516113, 13.498673439025879, 5.769199848175049, 5.323308944702148, 6.402232646942139, 15.414397239685059, 5.110091209411621, 6.605453014373779, 6.068924427032471, 7.4086480140686035, 7.546180248260498, 6.200903415679932, 7.00946044921875, 6.567681789398193, 5.891062259674072, 5.928427696228027, 10.119651794433594, 5.2535176277160645, 6.248050212860107, 6.78275203704834, 4.7943620681762695, 4.803317070007324, 7.793628215789795, 5.970682144165039, 30.086477279663086, 3.7261571884155273, 3.1497726440429688, 7.818819522857666, 3.5582101345062256, 3.5566136837005615, 4.581878185272217, 3.928842544555664, 2.8914551734924316, 4.195592403411865, 6.485069751739502, 5.979760646820068, 4.432109355926514, 3.1103601455688477, 6.958014488220215, 3.3601691722869873, 4.975162506103516, 2.922356605529785, 2.8911361694335938, 2.7763216495513916, 9.82506275177002, 4.601452350616455, 22.49074935913086, 17.218311309814453, 4.4193010330200195, 10.355023384094238, 6.65255880355835, 7.928394794464111, 10.027422904968262, 7.893235206604004, 7.038636684417725, 5.856747150421143, 7.189121723175049, 11.75494384765625, 6.009027481079102, 12.214969635009766, 7.310229301452637, 6.118756294250488, 8.012822151184082, 7.488243103027344, 6.7508721351623535, 6.072015762329102], \"Total\": [51.0, 142.0, 63.0, 185.0, 115.0, 29.0, 49.0, 25.0, 39.0, 104.0, 24.0, 65.0, 61.0, 33.0, 117.0, 52.0, 12.0, 37.0, 34.0, 23.0, 17.0, 19.0, 24.0, 20.0, 19.0, 34.0, 12.0, 34.0, 30.0, 16.0, 6.659698963165283, 7.5962910652160645, 9.52359676361084, 5.701724529266357, 7.595453262329102, 9.456825256347656, 7.573077201843262, 5.672261714935303, 9.486761093139648, 8.542928695678711, 7.556863307952881, 7.588734149932861, 34.94989013671875, 5.683860778808594, 6.62717866897583, 17.05177116394043, 9.455854415893555, 10.322914123535156, 8.560362815856934, 16.064462661743164, 10.389293670654297, 5.604066848754883, 5.642367362976074, 22.61981964111328, 15.18458366394043, 7.555069923400879, 16.016054153442383, 5.688322067260742, 5.635376930236816, 13.112095832824707, 43.26470184326172, 7.566436290740967, 22.61161231994629, 32.04230499267578, 185.87831115722656, 37.75383758544922, 112.4906997680664, 52.62239456176758, 59.33980941772461, 31.230955123901367, 117.44086456298828, 61.19080352783203, 42.38066101074219, 34.965267181396484, 18.012577056884766, 26.37165641784668, 18.921714782714844, 38.38557815551758, 39.7592658996582, 39.44879150390625, 104.7408676147461, 49.00579833984375, 64.76962280273438, 46.2097282409668, 36.66160202026367, 61.10903549194336, 12.32112979888916, 5.682314872741699, 10.38934326171875, 19.86347770690918, 10.40964412689209, 8.469841957092285, 24.46062469482422, 34.01332473754883, 5.675124168395996, 9.425593376159668, 25.400711059570312, 7.569514751434326, 6.641671180725098, 39.7592658996582, 33.121360778808594, 7.575997352600098, 5.660083770751953, 6.555004596710205, 9.398087501525879, 8.483119010925293, 20.575347900390625, 13.170079231262207, 22.668935775756836, 18.952068328857422, 8.406275749206543, 21.81025505065918, 7.469848155975342, 12.273763656616211, 5.625899314880371, 9.274794578552246, 8.513666152954102, 17.92829132080078, 21.694059371948242, 16.920637130737305, 43.1356086730957, 115.4185791015625, 104.7408676147461, 52.88085174560547, 20.797622680664062, 61.19080352783203, 142.91493225097656, 18.66010856628418, 50.641605377197266, 61.10903549194336, 64.76962280273438, 46.899112701416016, 37.75383758544922, 26.0686092376709, 35.509761810302734, 112.4906997680664, 63.9134521484375, 42.38066101074219, 35.67097473144531, 46.2097282409668, 6.460904598236084, 8.282089233398438, 6.46550989151001, 8.327401161193848, 12.043801307678223, 7.405211925506592, 5.558014869689941, 5.568453788757324, 10.206422805786133, 9.234020233154297, 9.24052619934082, 9.28572940826416, 10.16195011138916, 27.94603729248047, 8.372891426086426, 6.466678142547607, 8.378656387329102, 5.572150230407715, 5.515359401702881, 30.457040786743164, 5.553036212921143, 5.592728614807129, 8.36250114440918, 5.6094207763671875, 10.181927680969238, 14.015612602233887, 6.452456474304199, 34.43017578125, 6.515256404876709, 48.42315673828125, 22.458112716674805, 25.154678344726562, 29.82471466064453, 53.062110900878906, 33.44026184082031, 32.51631546020508, 18.614397048950195, 14.941964149475098, 26.945232391357422, 185.87831115722656, 65.00069427490234, 59.33980941772461, 25.248790740966797, 61.10903549194336, 61.19080352783203, 117.44086456298828, 43.1356086730957, 142.91493225097656, 115.4185791015625, 23.239849090576172, 40.38241195678711, 64.76962280273438, 29.07021713256836, 35.67097473144531, 104.7408676147461, 38.38557815551758, 50.641605377197266, 112.4906997680664, 7.541776180267334, 9.405984878540039, 25.189411163330078, 10.390643119812012, 6.549806594848633, 6.55885648727417, 9.331768989562988, 10.346906661987305, 6.607386112213135, 14.178759574890137, 7.498998641967773, 7.534341335296631, 15.115010261535645, 9.353409767150879, 11.285897254943848, 5.624422073364258, 5.645127773284912, 6.614141941070557, 6.522411823272705, 7.548410892486572, 5.666183948516846, 8.440713882446289, 20.74643325805664, 8.472119331359863, 21.60765838623047, 19.809293746948242, 5.624965190887451, 7.4749932289123535, 6.583942413330078, 6.58640193939209, 17.024595260620117, 27.383821487426758, 24.298128128051758, 46.2097282409668, 30.123483657836914, 19.77981185913086, 46.899112701416016, 23.604602813720703, 117.44086456298828, 104.7408676147461, 185.87831115722656, 34.98753356933594, 37.18922424316406, 52.62239456176758, 40.38241195678711, 112.4906997680664, 35.509761810302734, 49.00579833984375, 39.44879150390625, 33.121360778808594, 31.230955123901367, 63.9134521484375, 35.67097473144531, 115.4185791015625, 52.88085174560547, 5.642049312591553, 5.641366958618164, 5.642697811126709, 9.407118797302246, 29.164466857910156, 9.32149887084961, 7.525603294372559, 5.622534275054932, 24.498600006103516, 17.758596420288086, 6.578575134277344, 8.498910903930664, 5.650021553039551, 5.633321762084961, 6.553114891052246, 8.40065860748291, 7.425877571105957, 20.761873245239258, 6.5308403968811035, 8.45832633972168, 5.655924320220947, 8.4574613571167, 6.601439952850342, 5.662902355194092, 6.543318748474121, 18.88089370727539, 23.52935028076172, 6.604881286621094, 5.622053623199463, 8.407983779907227, 13.122448921203613, 21.661542892456055, 33.77306365966797, 52.88085174560547, 13.159478187561035, 29.13395118713379, 13.970011711120605, 117.44086456298828, 142.91493225097656, 64.76962280273438, 185.87831115722656, 53.062110900878906, 65.00069427490234, 36.66160202026367, 115.4185791015625, 20.529356002807617, 17.791929244995117, 50.641605377197266, 112.4906997680664, 46.2097282409668, 59.33980941772461, 38.38557815551758, 37.18922424316406, 48.42315673828125, 34.43017578125, 27.131797790527344, 10.912185668945312, 7.274384021759033, 7.320056915283203, 5.497360706329346, 19.281810760498047, 16.482372283935547, 5.521708011627197, 7.371400356292725, 8.29822063446045, 5.499257564544678, 8.26708984375, 9.244742393493652, 5.532691478729248, 9.216304779052734, 5.511590003967285, 5.544910430908203, 7.4021992683410645, 5.564944744110107, 8.343117713928223, 5.572643280029297, 5.57196569442749, 9.274794578552246, 5.5363240242004395, 6.47407341003418, 6.464082717895508, 5.573180675506592, 6.511256694793701, 24.139480590820312, 13.896230697631836, 8.350996017456055, 23.217620849609375, 34.45427703857422, 19.376131057739258, 21.406837463378906, 142.91493225097656, 61.10903549194336, 37.18922424316406, 115.4185791015625, 65.00069427490234, 104.7408676147461, 112.4906997680664, 16.738691329956055, 63.9134521484375, 16.741498947143555, 14.840683937072754, 24.26473617553711, 185.87831115722656, 14.916135787963867, 32.51631546020508, 25.189411163330078, 49.00579833984375, 52.62239456176758, 27.131797790527344, 53.062110900878906, 39.44879150390625, 30.457040786743164, 35.509761810302734, 12.359464645385742, 7.615692138671875, 9.531010627746582, 10.356428146362305, 7.583287715911865, 7.604450225830078, 12.349512100219727, 9.462154388427734, 51.14653778076172, 6.617557525634766, 5.687950134277344, 14.225383758544922, 6.565639495849609, 6.641289710998535, 8.569149017333984, 7.603301048278809, 5.659915447235107, 8.479410171508789, 13.195581436157227, 12.31353759765625, 9.43635368347168, 6.65726375579834, 15.096297264099121, 7.498292922973633, 11.3037109375, 6.665169715881348, 6.628301620483398, 6.581360816955566, 23.66414451599121, 11.236726760864258, 63.9134521484375, 49.00579833984375, 11.291210174560547, 34.98753356933594, 24.522502899169922, 34.965267181396484, 65.00069427490234, 39.44879150390625, 32.51631546020508, 21.792285919189453, 36.49087142944336, 142.91493225097656, 23.604602813720703, 185.87831115722656, 50.641605377197266, 30.179447174072266, 112.4906997680664, 104.7408676147461, 59.33980941772461, 117.44086456298828], \"Category\": [\"Default\", \"Default\", \"Default\", \"Default\", \"Default\", \"Default\", \"Default\", \"Default\", \"Default\", \"Default\", \"Default\", \"Default\", \"Default\", \"Default\", \"Default\", \"Default\", \"Default\", \"Default\", \"Default\", \"Default\", \"Default\", \"Default\", \"Default\", \"Default\", \"Default\", \"Default\", \"Default\", \"Default\", \"Default\", \"Default\", \"Topic1\", \"Topic1\", \"Topic1\", \"Topic1\", \"Topic1\", \"Topic1\", \"Topic1\", \"Topic1\", \"Topic1\", \"Topic1\", \"Topic1\", \"Topic1\", \"Topic1\", \"Topic1\", \"Topic1\", \"Topic1\", \"Topic1\", \"Topic1\", \"Topic1\", \"Topic1\", \"Topic1\", \"Topic1\", \"Topic1\", \"Topic1\", \"Topic1\", \"Topic1\", \"Topic1\", \"Topic1\", \"Topic1\", \"Topic1\", \"Topic1\", \"Topic1\", \"Topic1\", \"Topic1\", \"Topic1\", \"Topic1\", \"Topic1\", \"Topic1\", \"Topic1\", \"Topic1\", \"Topic1\", \"Topic1\", \"Topic1\", \"Topic1\", \"Topic1\", \"Topic1\", \"Topic1\", \"Topic1\", \"Topic1\", \"Topic1\", \"Topic1\", \"Topic1\", \"Topic1\", \"Topic1\", \"Topic1\", \"Topic1\", \"Topic2\", \"Topic2\", \"Topic2\", \"Topic2\", \"Topic2\", \"Topic2\", \"Topic2\", \"Topic2\", \"Topic2\", \"Topic2\", \"Topic2\", \"Topic2\", \"Topic2\", \"Topic2\", \"Topic2\", \"Topic2\", \"Topic2\", \"Topic2\", \"Topic2\", \"Topic2\", \"Topic2\", \"Topic2\", \"Topic2\", \"Topic2\", \"Topic2\", \"Topic2\", \"Topic2\", \"Topic2\", \"Topic2\", \"Topic2\", \"Topic2\", \"Topic2\", \"Topic2\", \"Topic2\", \"Topic2\", \"Topic2\", \"Topic2\", \"Topic2\", \"Topic2\", \"Topic2\", \"Topic2\", \"Topic2\", \"Topic2\", \"Topic2\", \"Topic2\", \"Topic2\", \"Topic2\", \"Topic2\", \"Topic2\", \"Topic2\", \"Topic2\", \"Topic2\", \"Topic2\", \"Topic2\", \"Topic3\", \"Topic3\", \"Topic3\", \"Topic3\", \"Topic3\", \"Topic3\", \"Topic3\", \"Topic3\", \"Topic3\", \"Topic3\", \"Topic3\", \"Topic3\", \"Topic3\", \"Topic3\", \"Topic3\", \"Topic3\", \"Topic3\", \"Topic3\", \"Topic3\", \"Topic3\", \"Topic3\", \"Topic3\", \"Topic3\", \"Topic3\", \"Topic3\", \"Topic3\", \"Topic3\", \"Topic3\", \"Topic3\", \"Topic3\", \"Topic3\", \"Topic3\", \"Topic3\", \"Topic3\", \"Topic3\", \"Topic3\", \"Topic3\", \"Topic3\", \"Topic3\", \"Topic3\", \"Topic3\", \"Topic3\", \"Topic3\", \"Topic3\", \"Topic3\", \"Topic3\", \"Topic3\", \"Topic3\", \"Topic3\", \"Topic3\", \"Topic3\", \"Topic3\", \"Topic3\", \"Topic3\", \"Topic3\", \"Topic3\", \"Topic3\", \"Topic3\", \"Topic4\", \"Topic4\", \"Topic4\", \"Topic4\", \"Topic4\", \"Topic4\", \"Topic4\", \"Topic4\", \"Topic4\", \"Topic4\", \"Topic4\", \"Topic4\", \"Topic4\", \"Topic4\", \"Topic4\", \"Topic4\", \"Topic4\", \"Topic4\", \"Topic4\", \"Topic4\", \"Topic4\", \"Topic4\", \"Topic4\", \"Topic4\", \"Topic4\", \"Topic4\", \"Topic4\", \"Topic4\", \"Topic4\", \"Topic4\", \"Topic4\", \"Topic4\", \"Topic4\", \"Topic4\", \"Topic4\", \"Topic4\", \"Topic4\", \"Topic4\", \"Topic4\", \"Topic4\", \"Topic4\", \"Topic4\", \"Topic4\", \"Topic4\", \"Topic4\", \"Topic4\", \"Topic4\", \"Topic4\", \"Topic4\", \"Topic4\", \"Topic4\", \"Topic4\", \"Topic4\", \"Topic4\", \"Topic4\", \"Topic5\", \"Topic5\", \"Topic5\", \"Topic5\", \"Topic5\", \"Topic5\", \"Topic5\", \"Topic5\", \"Topic5\", \"Topic5\", \"Topic5\", \"Topic5\", \"Topic5\", \"Topic5\", \"Topic5\", \"Topic5\", \"Topic5\", \"Topic5\", \"Topic5\", \"Topic5\", \"Topic5\", \"Topic5\", \"Topic5\", \"Topic5\", \"Topic5\", \"Topic5\", \"Topic5\", \"Topic5\", \"Topic5\", \"Topic5\", \"Topic5\", \"Topic5\", \"Topic5\", \"Topic5\", \"Topic5\", \"Topic5\", \"Topic5\", \"Topic5\", \"Topic5\", \"Topic5\", \"Topic5\", \"Topic5\", \"Topic5\", \"Topic5\", \"Topic5\", \"Topic5\", \"Topic5\", \"Topic5\", \"Topic5\", \"Topic5\", \"Topic5\", \"Topic5\", \"Topic5\", \"Topic5\", \"Topic5\", \"Topic5\", \"Topic6\", \"Topic6\", \"Topic6\", \"Topic6\", \"Topic6\", \"Topic6\", \"Topic6\", \"Topic6\", \"Topic6\", \"Topic6\", \"Topic6\", \"Topic6\", \"Topic6\", \"Topic6\", \"Topic6\", \"Topic6\", \"Topic6\", \"Topic6\", \"Topic6\", \"Topic6\", \"Topic6\", \"Topic6\", \"Topic6\", \"Topic6\", \"Topic6\", \"Topic6\", \"Topic6\", \"Topic6\", \"Topic6\", \"Topic6\", \"Topic6\", \"Topic6\", \"Topic6\", \"Topic6\", \"Topic6\", \"Topic6\", \"Topic6\", \"Topic6\", \"Topic6\", \"Topic6\", \"Topic6\", \"Topic6\", \"Topic6\", \"Topic6\", \"Topic6\", \"Topic6\", \"Topic6\", \"Topic6\", \"Topic6\", \"Topic6\", \"Topic6\", \"Topic6\", \"Topic6\", \"Topic6\", \"Topic6\", \"Topic6\", \"Topic6\", \"Topic7\", \"Topic7\", \"Topic7\", \"Topic7\", \"Topic7\", \"Topic7\", \"Topic7\", \"Topic7\", \"Topic7\", \"Topic7\", \"Topic7\", \"Topic7\", \"Topic7\", \"Topic7\", \"Topic7\", \"Topic7\", \"Topic7\", \"Topic7\", \"Topic7\", \"Topic7\", \"Topic7\", \"Topic7\", \"Topic7\", \"Topic7\", \"Topic7\", \"Topic7\", \"Topic7\", \"Topic7\", \"Topic7\", \"Topic7\", \"Topic7\", \"Topic7\", \"Topic7\", \"Topic7\", \"Topic7\", \"Topic7\", \"Topic7\", \"Topic7\", \"Topic7\", \"Topic7\", \"Topic7\", \"Topic7\", \"Topic7\", \"Topic7\", \"Topic7\", \"Topic7\", \"Topic7\", \"Topic7\", \"Topic7\", \"Topic7\"], \"logprob\": [30.0, 29.0, 28.0, 27.0, 26.0, 25.0, 24.0, 23.0, 22.0, 21.0, 20.0, 19.0, 18.0, 17.0, 16.0, 15.0, 14.0, 13.0, 12.0, 11.0, 10.0, 9.0, 8.0, 7.0, 6.0, 5.0, 4.0, 3.0, 2.0, 1.0, -5.488900184631348, -5.369200229644775, -5.197000026702881, -5.75439977645874, -5.548699855804443, -5.335400104522705, -5.557799816131592, -5.854899883270264, -5.400199890136719, -5.548699855804443, -5.6890997886657715, -5.691199779510498, -4.19789981842041, -6.016600131988525, -5.863100051879883, -4.942999839782715, -5.578100204467773, -5.503399848937988, -5.692399978637695, -5.081999778747559, -5.527599811553955, -6.145299911499023, -6.139500141143799, -4.7596001625061035, -5.169400215148926, -5.883800029754639, -5.1407999992370605, -6.184899806976318, -6.200799942016602, -5.356900215148926, -4.185800075531006, -5.913899898529053, -4.875800132751465, -4.5833001136779785, -3.02810001373291, -4.460100173950195, -3.642899990081787, -4.268799781799316, -4.197800159454346, -4.702899932861328, -3.8603999614715576, -4.337699890136719, -4.664000034332275, -4.843100070953369, -5.220799922943115, -5.046899795532227, -5.216800212860107, -4.940100193023682, -4.956600189208984, -4.975399971008301, -4.748300075531006, -4.959799766540527, -4.914999961853027, -5.065400123596191, -5.119200229644775, -5.094799995422363, -4.694499969482422, -5.588500022888184, -4.994900226593018, -4.4918999671936035, -5.160799980163574, -5.387400150299072, -4.355599880218506, -4.0279998779296875, -5.821199893951416, -5.333499908447266, -4.355000019073486, -5.597099781036377, -5.73360013961792, -3.972599983215332, -4.159299850463867, -5.6605000495910645, -5.95959997177124, -5.826499938964844, -5.47189998626709, -5.589799880981445, -4.739299774169922, -5.197500228881836, -4.664100170135498, -4.861299991607666, -5.67579984664917, -4.732500076293945, -5.849899768829346, -5.360899925231934, -6.15749979019165, -5.657800197601318, -5.747300148010254, -5.026800155639648, -4.845799922943115, -5.093800067901611, -4.26639986038208, -3.437700033187866, -3.696899890899658, -4.2494001388549805, -4.98799991607666, -4.344799995422363, -3.8359999656677246, -5.123600006103516, -4.678699970245361, -4.592599868774414, -4.57289981842041, -4.764800071716309, -4.860799789428711, -5.00029993057251, -4.91480016708374, -4.717100143432617, -4.836400032043457, -4.92080020904541, -4.951399803161621, -4.933199882507324, -5.412499904632568, -5.18779993057251, -5.446300029754639, -5.242700099945068, -4.9070000648498535, -5.447500228881836, -5.749800205230713, -5.750100135803223, -5.250100135803223, -5.381199836730957, -5.404900074005127, -5.412099838256836, -5.338500022888184, -4.346399784088135, -5.5644001960754395, -5.827300071716309, -5.57289981842041, -5.987599849700928, -6.021399974822998, -4.3256001472473145, -6.043799877166748, -6.049799919128418, -5.702600002288818, -6.109399795532227, -5.520500183105469, -5.202000141143799, -6.0117998123168945, -4.341000080108643, -6.010300159454346, -4.009399890899658, -4.789000034332275, -4.727399826049805, -4.6230998039245605, -4.145199775695801, -4.543900012969971, -4.573599815368652, -5.057600021362305, -5.2378997802734375, -4.802000045776367, -3.4465999603271484, -4.277200222015381, -4.364099979400635, -4.892499923706055, -4.36269998550415, -4.368299961090088, -4.004199981689453, -4.5756001472473145, -4.0142998695373535, -4.154900074005127, -4.962600231170654, -4.728300094604492, -4.542399883270264, -4.88700008392334, -4.881700038909912, -4.570899963378906, -4.88670015335083, -4.828700065612793, -4.953400135040283, -5.156499862670898, -4.940499782562256, -4.112199783325195, -5.007800102233887, -5.593900203704834, -5.595699787139893, -5.303199768066406, -5.212100028991699, -5.67579984664917, -4.927299976348877, -5.565299987792969, -5.611100196838379, -4.922100067138672, -5.420899868011475, -5.236400127410889, -5.939700126647949, -5.9471001625061035, -5.823400020599365, -5.841800212860107, -5.695899963378906, -5.990699768066406, -5.593900203704834, -4.6981000900268555, -5.598400115966797, -4.692800045013428, -4.786300182342529, -6.045499801635742, -5.779699802398682, -5.910200119018555, -5.924799919128418, -4.979800224304199, -4.548999786376953, -4.723499774932861, -4.2652997970581055, -4.622000217437744, -4.969900131225586, -4.319699764251709, -4.875400066375732, -3.7172000408172607, -3.8822999000549316, -3.531599998474121, -4.665599822998047, -4.639699935913086, -4.519199848175049, -4.669300079345703, -4.152100086212158, -4.776400089263916, -4.639999866485596, -4.7484002113342285, -4.837200164794922, -4.874599933624268, -4.755300045013428, -4.919600009918213, -4.890600204467773, -4.954699993133545, -5.383399963378906, -5.403500080108643, -5.409299850463867, -4.953000068664551, -3.8447999954223633, -5.060299873352051, -5.296899795532227, -5.638299942016602, -4.17710018157959, -4.502200126647949, -5.5015997886657715, -5.285600185394287, -5.702600002288818, -5.707699775695801, -5.575699806213379, -5.335100173950195, -5.464099884033203, -4.442999839782715, -5.619800090789795, -5.375800132751465, -5.839399814605713, -5.463900089263916, -5.714799880981445, -5.877600193023682, -5.7677001953125, -4.718400001525879, -4.502099990844727, -5.792799949645996, -5.965199947357178, -5.563199996948242, -5.139800071716309, -4.714799880981445, -4.322700023651123, -4.01639986038208, -5.195799827575684, -4.577099800109863, -5.154900074005127, -3.6310999393463135, -3.523400068283081, -4.252299785614014, -3.779599905014038, -4.477099895477295, -4.373499870300293, -4.706600189208984, -4.1869001388549805, -5.010000228881836, -5.08050012588501, -4.695000171661377, -4.560999870300293, -4.815899848937988, -4.770199775695801, -4.9334001541137695, -4.96019983291626, -4.934700012207031, -5.0269999504089355, -5.0665998458862305, -4.700799942016602, -5.183899879455566, -5.248000144958496, -5.610599994659424, -4.381199836730957, -4.54610013961792, -5.67710018157959, -5.4822001457214355, -5.367599964141846, -5.787399768829346, -5.384699821472168, -5.276899814605713, -5.848800182342529, -5.360099792480469, -5.8881001472473145, -5.886899948120117, -5.6407999992370605, -5.938000202178955, -5.552599906921387, -5.96619987487793, -5.969799995422363, -5.470200061798096, -6.003799915313721, -5.853899955749512, -5.877500057220459, -6.02839994430542, -5.875199794769287, -4.566800117492676, -5.12060022354126, -5.633800029754639, -4.658899784088135, -4.2982001304626465, -4.856299877166748, -4.775599956512451, -3.0569000244140625, -3.861599922180176, -4.332399845123291, -3.515199899673462, -4.069799900054932, -3.8160998821258545, -3.7808001041412354, -5.131700038909912, -4.289000034332275, -5.139100074768066, -5.2195000648498535, -5.034999847412109, -4.156300067901611, -5.26039981842041, -5.003699779510498, -5.088500022888184, -4.888999938964844, -4.87060022354126, -5.06689977645874, -4.944399833679199, -5.009500026702881, -5.118199825286865, -5.1118998527526855, -4.337699890136719, -4.993199825286865, -4.819900035858154, -4.737800121307373, -5.084700107574463, -5.082799911499023, -4.598800182342529, -4.865300178527832, -3.2481000423431396, -5.3368000984191895, -5.504799842834473, -4.595600128173828, -5.382900238037109, -5.383299827575684, -5.130000114440918, -5.28380012512207, -5.590400218963623, -5.218100070953369, -4.782599925994873, -4.863800048828125, -5.163300037384033, -5.517399787902832, -4.712200164794922, -5.440100193023682, -5.047699928283691, -5.579699993133545, -5.5904998779296875, -5.63100004196167, -4.367199897766113, -5.125800132751465, -3.5390000343322754, -3.8062000274658203, -5.166200160980225, -4.314700126647949, -4.7571001052856445, -4.581699848175049, -4.346799850463867, -4.586100101470947, -4.700699806213379, -4.884500026702881, -4.679599761962891, -4.187900066375732, -4.85890007019043, -4.149499893188477, -4.662899971008301, -4.840799808502197, -4.571100234985352, -4.638800144195557, -4.742499828338623, -4.848400115966797], \"loglift\": [30.0, 29.0, 28.0, 27.0, 26.0, 25.0, 24.0, 23.0, 22.0, 21.0, 20.0, 19.0, 18.0, 17.0, 16.0, 15.0, 14.0, 13.0, 12.0, 11.0, 10.0, 9.0, 8.0, 7.0, 6.0, 5.0, 4.0, 3.0, 2.0, 1.0, 1.5469000339508057, 1.534999966621399, 1.4810999631881714, 1.4365999698638916, 1.3555999994277954, 1.3496999740600586, 1.3494000434875488, 1.3413000106811523, 1.2817000150680542, 1.2380000352859497, 1.2202999591827393, 1.2139999866485596, 1.1799999475479126, 1.1776000261306763, 1.1775000095367432, 1.1526000499725342, 1.107100009918213, 1.093999981880188, 1.0923000574111938, 1.073199987411499, 1.0634000301361084, 1.062999963760376, 1.0621000528335571, 1.0534000396728516, 1.042199969291687, 1.0256999731063843, 1.0174000263214111, 1.0084999799728394, 1.0019999742507935, 1.0013999938964844, 0.9786999821662903, 0.9941999912261963, 0.9375, 0.8815000057220459, 0.678600013256073, 0.8406000137329102, 0.566100001335144, 0.6998999714851379, 0.6506999731063843, 0.7875000238418579, 0.30550000071525574, 0.48010000586509705, 0.5212000012397766, 0.5343999862670898, 0.8199999928474426, 0.6126999855041504, 0.7746999859809875, 0.3440000116825104, 0.2924000024795532, 0.28139999508857727, -0.46799999475479126, 0.08009999990463257, -0.15399999916553497, 0.0333000011742115, 0.21089999377727509, -0.27570000290870667, 1.7259999513626099, 1.6059999465942383, 1.5960999727249146, 1.4510999917984009, 1.4283000230789185, 1.4078999757766724, 1.37909996509552, 1.3770999908447266, 1.3746000528335571, 1.3549000024795532, 1.3420000076293945, 1.3106000423431396, 1.304800033569336, 1.2762999534606934, 1.2723000049591064, 1.2462999820709229, 1.238700032234192, 1.225100040435791, 1.2194000482559204, 1.2038999795913696, 1.1684000492095947, 1.1562999486923218, 1.1467000246047974, 1.1287000179290771, 1.1270999908447266, 1.1169999837875366, 1.0710999965667725, 1.0635000467300415, 1.0469000339508057, 1.0467000007629395, 1.0428999662399292, 1.0185999870300293, 1.0089999437332153, 1.0095000267028809, 0.9010999798774719, 0.7455000281333923, 0.5834000110626221, 0.7143999934196472, 0.9089999794960022, 0.4729999899864197, 0.13349999487400055, 0.8817999958992004, 0.32829999923706055, 0.22660000622272491, 0.18809999525547028, 0.3190000057220459, 0.4399000108242035, 0.670799970626831, 0.4472000002861023, -0.5080999732017517, -0.062199998646974564, 0.26429998874664307, 0.40610000491142273, 0.1655000001192093, 1.653499960899353, 1.6298999786376953, 1.6190999746322632, 1.569599986076355, 1.5362999439239502, 1.482200026512146, 1.4667999744415283, 1.4645999670028687, 1.3587000370025635, 1.3277000188827515, 1.3033000230789185, 1.2913000583648682, 1.2746000289916992, 1.2551000118255615, 1.2424999475479126, 1.2379000186920166, 1.233299970626831, 1.2264000177383423, 1.2029000520706177, 1.1899000406265259, 1.1735999584197998, 1.160599946975708, 1.1053999662399292, 1.0979000329971313, 1.0907000303268433, 1.0896999835968018, 1.0556000471115112, 1.051900029182434, 1.0473999977111816, 1.0424000024795532, 1.0311000347137451, 0.9793999791145325, 0.9132999777793884, 0.8151000142097473, 0.8780999779701233, 0.8765000104904175, 0.9502999782562256, 0.9897000193595886, 0.8360000252723694, 0.26019999384880066, 0.48019999265670776, 0.4844000041484833, 0.8105999827384949, 0.4564000070095062, 0.4494999945163727, 0.16169999539852142, 0.5917999744415283, -0.04470000043511391, 0.0284000001847744, 0.8234000205993652, 0.5052000284194946, 0.21850000321865082, 0.6751000285148621, 0.4758000075817108, -0.2906000018119812, 0.39739999175071716, 0.17829999327659607, -0.7444000244140625, 1.7548999786376953, 1.75, 1.5930999517440796, 1.5830999612808228, 1.4585000276565552, 1.455299973487854, 1.3952000141143799, 1.3830000162124634, 1.367900013923645, 1.3528000116348267, 1.351699948310852, 1.301300048828125, 1.2940000295639038, 1.2752000093460083, 1.2718000411987305, 1.2649999856948853, 1.253999948501587, 1.2192000150680542, 1.2148000001907349, 1.2145999670028687, 1.2065999507904053, 1.204800009727478, 1.2014000415802002, 1.1966999769210815, 1.1658999919891357, 1.1593999862670898, 1.15910005569458, 1.1405999660491943, 1.1369999647140503, 1.121999979019165, 1.117400050163269, 1.0729000568389893, 1.017899990081787, 0.833299994468689, 0.9045000076293945, 0.9771999716758728, 0.7641000151634216, 0.8949999809265137, 0.4487000107765198, 0.39800000190734863, 0.17509999871253967, 0.7111999988555908, 0.6761000156402588, 0.4494999945163727, 0.5641000270843506, 0.0568000003695488, 0.5856000185012817, 0.39989998936653137, 0.508400022983551, 0.5943999886512756, 0.6158000230789185, 0.01899999938905239, 0.43790000677108765, -0.7074000239372253, 0.009100000374019146, 1.8180999755859375, 1.798200011253357, 1.792199969291687, 1.7374000549316406, 1.7141000032424927, 1.63919997215271, 1.6166000366210938, 1.5667999982833862, 1.5561000108718872, 1.5528000593185425, 1.5463999509811401, 1.5062999725341797, 1.4975999593734741, 1.4954999685287476, 1.476199984550476, 1.468400001525879, 1.4628000259399414, 1.4557000398635864, 1.4354000091552734, 1.420799970626831, 1.3596999645233154, 1.332900047302246, 1.329800009727478, 1.3202999830245972, 1.2856999635696411, 1.2753000259399414, 1.2714999914169312, 1.2511999607086182, 1.23989999294281, 1.239400029182434, 1.2177000045776367, 1.1414999961853027, 1.0894999504089355, 0.9473999738693237, 1.1588000059127808, 0.9828000068664551, 1.1399999856948853, 0.5346999764442444, 0.44609999656677246, 0.5087000131607056, -0.07289999723434448, 0.4832000136375427, 0.383899986743927, 0.6233999729156494, -0.003700000001117587, 0.8999999761581421, 0.972599983215332, 0.31200000643730164, -0.35199999809265137, 0.2827000021934509, 0.07829999923706055, 0.3506999909877777, 0.3555999994277954, 0.11720000207424164, 0.3659000098705292, 0.5644999742507935, 1.8410999774932861, 1.7634999752044678, 1.6931999921798706, 1.6168999671936035, 1.5914000272750854, 1.5835000276565552, 1.5461000204086304, 1.4520000219345093, 1.448199987411499, 1.4398000240325928, 1.4348000288009644, 1.430799961090088, 1.3724000453948975, 1.3508000373840332, 1.3367999792099, 1.3321000337600708, 1.2892999649047852, 1.2773000001907349, 1.2577999830245972, 1.2477999925613403, 1.2443000078201294, 1.2344000339508057, 1.2166999578475952, 1.2101000547409058, 1.188099980354309, 1.1855000257492065, 1.1829999685287476, 1.1811000108718872, 1.1796000003814697, 1.1756000518798828, 1.128000020980835, 1.0938999652862549, 1.1115000247955322, 1.0924999713897705, 0.9126999974250793, 0.9575999975204468, 0.9833999872207642, 0.6680999994277954, 0.6876000165939331, 0.4641999900341034, 0.42809998989105225, 0.9824000000953674, 0.4851999878883362, 0.9747999906539917, 1.0148999691009521, 0.7077999711036682, -0.4496000111103058, 0.9689000248908997, 0.4462999999523163, 0.6169000267982483, 0.1509000062942505, 0.09809999912977219, 0.5641999840736389, 0.01600000075995922, 0.24729999899864197, 0.39730000495910645, 0.2500999867916107, 2.079699993133545, 1.908400058746338, 1.8573999404907227, 1.8565000295639038, 1.8212000131607056, 1.8202999830245972, 1.8193999528884888, 1.819200038909912, 1.7490999698638916, 1.705299973487854, 1.6886999607086182, 1.6812000274658203, 1.667099952697754, 1.6552000045776367, 1.6535999774932861, 1.6194000244140625, 1.6080000400543213, 1.5760999917984009, 1.5693000555038452, 1.5573999881744385, 1.5240000486373901, 1.5187000036239624, 1.5051000118255615, 1.4769999980926514, 1.4589999914169312, 1.455199956893921, 1.4500000476837158, 1.416599988937378, 1.4006999731063843, 1.3868999481201172, 1.2352999448776245, 1.2337000370025635, 1.341599941253662, 1.0621999502182007, 0.9750999808311462, 0.795799970626831, 0.4106000065803528, 0.6707000136375427, 0.7494000196456909, 0.9656999707221985, 0.6552000045776367, -0.218299999833107, 0.9114999771118164, -0.44279998540878296, 0.3441999852657318, 0.683899998664856, -0.3621000051498413, -0.35850000381469727, 0.10610000044107437, -0.6826000213623047]}, \"token.table\": {\"Topic\": [1, 2, 4, 2, 5, 6, 7, 1, 4, 1, 2, 3, 4, 5, 6, 7, 1, 2, 3, 4, 5, 6, 7, 2, 3, 5, 3, 6, 7, 1, 6, 7, 1, 2, 3, 4, 5, 7, 4, 5, 6, 2, 3, 5, 2, 3, 5, 6, 1, 2, 3, 4, 5, 7, 1, 5, 6, 7, 1, 2, 3, 4, 5, 6, 7, 2, 4, 5, 7, 1, 2, 3, 4, 5, 7, 5, 6, 2, 5, 6, 1, 2, 3, 4, 5, 6, 7, 1, 2, 3, 4, 5, 6, 7, 1, 5, 6, 1, 3, 6, 1, 2, 3, 4, 5, 6, 1, 3, 1, 2, 4, 5, 6, 7, 1, 2, 3, 5, 7, 1, 3, 5, 6, 1, 2, 3, 4, 5, 6, 7, 1, 2, 3, 4, 5, 6, 7, 1, 2, 3, 4, 6, 7, 3, 5, 6, 4, 6, 7, 1, 3, 5, 6, 7, 1, 2, 3, 4, 5, 7, 1, 2, 3, 4, 6, 7, 1, 2, 3, 4, 5, 6, 7, 2, 4, 5, 6, 2, 3, 4, 6, 1, 2, 3, 5, 1, 3, 4, 5, 7, 3, 6, 4, 5, 6, 2, 4, 1, 3, 4, 1, 2, 3, 4, 6, 1, 2, 3, 4, 5, 6, 7, 2, 6, 7, 3, 5, 1, 2, 3, 5, 6, 7, 1, 3, 4, 7, 2, 4, 6, 3, 4, 1, 2, 5, 6, 5, 1, 2, 3, 4, 5, 6, 2, 6, 1, 5, 6, 3, 6, 7, 1, 3, 2, 3, 6, 7, 1, 2, 7, 6, 7, 1, 2, 3, 2, 4, 2, 6, 2, 3, 5, 7, 1, 3, 4, 6, 1, 1, 2, 4, 5, 7, 1, 6, 1, 3, 4, 6, 2, 3, 4, 5, 6, 7, 1, 4, 5, 7, 1, 2, 3, 4, 1, 2, 3, 4, 6, 7, 2, 4, 6, 7, 1, 2, 7, 2, 3, 6, 1, 3, 4, 6, 1, 2, 5, 1, 2, 5, 6, 1, 2, 4, 1, 2, 3, 4, 5, 6, 7, 1, 2, 3, 4, 5, 6, 7, 1, 2, 4, 6, 7, 2, 3, 4, 5, 1, 6, 1, 4, 5, 1, 2, 3, 6, 1, 4, 5, 1, 7, 5, 6, 7, 5, 6, 1, 4, 5, 1, 2, 3, 6, 7, 1, 2, 3, 6, 1, 3, 5, 1, 2, 3, 4, 5, 6, 4, 5, 6, 7, 3, 4, 5, 7, 2, 3, 4, 5, 6, 7, 2, 3, 4, 5, 3, 4, 7, 2, 2, 4, 5, 1, 2, 4, 6, 2, 6, 7, 1, 2, 5, 6, 7, 1, 4, 6, 7, 1, 2, 4, 5, 7, 1, 2, 3, 4, 5, 6, 7, 2, 3, 4, 5, 6, 7, 1, 2, 3, 4, 5, 1, 3, 4, 1, 7, 2, 3, 3, 7, 1, 2, 4, 5, 7, 1, 2, 4, 5, 1, 2, 3, 4, 5, 6, 7, 1, 2, 3, 4, 6, 7, 3, 4, 1, 2, 3, 4, 6, 7, 1, 2, 3, 5, 4, 5, 6, 7, 1, 3, 4, 6, 7, 2, 3, 6, 2, 5, 6, 1, 2, 3, 5, 6, 3, 6, 3, 4, 7, 2, 6, 3, 6, 3, 4, 5, 5, 3, 5, 3, 4, 5, 1, 3, 2, 3, 4, 1, 3, 7, 1, 2, 3, 4, 5, 6, 7, 1, 4, 5, 6, 7, 5, 1, 4, 7, 1, 2, 4, 5, 6, 7, 1, 2, 5, 1, 2, 3, 4, 5, 6, 7, 1, 2, 3, 4, 5, 6, 7, 1, 2, 3, 4, 5, 6, 7, 1, 3, 4, 1, 2, 7, 1, 2, 3, 4, 5, 6, 7, 2, 4, 5, 6, 7, 1, 2, 3, 4, 6, 7, 4, 5, 1, 2, 3, 4, 5, 6, 7, 1, 2, 3, 5, 6, 1, 4, 5, 6, 7, 2, 3, 5, 1, 2, 3, 4, 5, 6, 7, 3, 5, 1, 2, 3, 4, 5, 6, 7, 3, 4, 6, 1, 2, 5, 6, 1, 2, 3, 4, 7, 3, 1, 5, 6, 7, 1, 3, 6, 1, 7, 4, 6, 7, 1, 3, 6, 7, 1, 2, 3, 5, 1, 5, 2, 3, 1, 6, 1, 2, 3, 4, 5, 6, 2, 3, 5, 1, 5, 6, 1, 2, 3, 4, 5, 6, 7, 1, 2, 3, 4, 5, 6, 1, 4, 5, 7, 1, 3, 4, 5, 7, 1, 4, 1, 4, 5, 6, 2, 3, 4, 5, 6, 7, 1, 2, 4, 1, 2, 3, 4, 5, 6, 1, 2, 3, 4, 5, 6, 7, 2, 3, 7, 4, 5, 1, 2, 3, 4, 6, 1, 2, 3, 4, 5, 6, 7, 1, 2, 3, 5, 6, 5, 7, 4, 5, 7, 1, 5, 6, 1, 2, 3, 4, 5, 6, 7, 1, 2, 3, 4, 5, 7, 2, 3, 6, 1, 2, 3, 4, 6, 7, 3, 5, 6, 5, 6, 2, 4, 6, 1, 2, 4, 5, 6, 7, 1, 2, 4, 5, 2, 4, 5, 1, 3, 5, 7, 1, 2, 3, 4, 5, 6, 7, 3, 4, 6, 1, 2, 4, 1, 2, 3, 2, 3, 6, 1, 3, 5, 6, 1, 3, 4, 5, 6, 7, 1, 2, 3, 4, 6, 7, 1, 2, 4, 7, 2, 3, 5, 6, 7, 1, 2, 3, 4, 5, 6, 7, 1, 2, 4, 6, 7, 1, 5, 6, 7, 1, 2, 3, 5, 6, 7, 1, 2, 2, 4, 5, 6, 7, 5, 6, 1, 3, 7, 1, 4, 7, 1, 2, 3, 4, 5, 6, 7, 1, 2, 3, 5, 6, 7, 1, 3, 4, 6, 3, 5, 6, 7, 1, 3, 5, 7, 1, 4, 5, 1, 5, 1, 2, 3, 5, 6, 7, 1, 2, 3, 4, 6, 1, 4, 6, 1, 2, 3, 4, 6, 7, 1, 2, 3, 4, 5, 6, 7, 2, 6, 7, 1, 5, 6, 3, 4, 6, 2, 6, 7, 1, 2, 4, 5, 6, 7, 2, 5, 7, 1, 2, 3, 4, 1, 2, 3, 4, 5, 1, 6, 7, 1, 2, 3, 4, 5, 6, 7, 1, 2, 3, 4, 5, 6, 7, 2, 4, 5, 6, 7, 3, 4, 7, 1, 2, 4, 1, 7, 3, 4, 5, 1, 3, 6, 1, 2, 3, 4, 5, 6, 7, 1, 3, 4, 5, 7, 1, 5, 5, 6, 1, 2, 3, 4, 5, 6, 7, 1, 2, 3, 5, 6, 7, 1, 2, 4, 5, 6, 2, 3, 4, 5, 7, 1, 2, 3, 5, 6, 7, 2, 3, 4, 5, 1, 2, 3, 4, 5, 6, 7, 2, 4, 6, 2, 3, 1, 2, 4, 5, 6, 7, 5, 6, 7, 1, 2, 4, 5, 6, 1, 3, 4, 1, 2, 3, 6, 1, 3, 1, 4, 5, 1, 2, 3, 4, 5, 7, 1, 2, 3, 4, 1, 2, 3, 4, 5, 6, 7, 1, 2, 3, 4, 5, 7, 2, 4, 5, 1, 4, 2, 3, 4, 6, 7, 1, 2, 3, 5, 6, 1, 2, 3, 4, 5, 7, 1, 2, 3, 4, 5, 6, 7, 2, 4, 5, 6, 1, 2, 3, 5, 1, 4], \"Freq\": [0.09606476128101349, 0.6724533438682556, 0.09606476128101349, 0.45444631576538086, 0.45444631576538086, 0.5433101654052734, 0.18110337853431702, 0.7015421390533447, 0.17538553476333618, 0.4227946698665619, 0.10569866746664047, 0.10569866746664047, 0.21139733493328094, 0.052849333733320236, 0.052849333733320236, 0.1585479974746704, 0.15901614725589752, 0.03975403681397438, 0.3975403606891632, 0.11926210671663284, 0.15901614725589752, 0.07950807362794876, 0.07950807362794876, 0.11893457919359207, 0.3568037450313568, 0.4757383167743683, 0.15230809152126312, 0.15230809152126312, 0.6092323660850525, 0.3071603775024414, 0.4607405662536621, 0.1535801887512207, 0.08574482798576355, 0.11432643234729767, 0.08574482798576355, 0.28581610321998596, 0.11432643234729767, 0.28581610321998596, 0.5358040928840637, 0.10716082155704498, 0.21432164311408997, 0.8799231052398682, 0.3062393069267273, 0.6124786138534546, 0.535486102104187, 0.13387152552604675, 0.13387152552604675, 0.2677430510520935, 0.17334279417991638, 0.04952651262283325, 0.24763256311416626, 0.24763256311416626, 0.14857953786849976, 0.0990530252456665, 0.16242286562919617, 0.16242286562919617, 0.08121143281459808, 0.4872685670852661, 0.1390962153673172, 0.3941059410572052, 0.2781924307346344, 0.02318270318210125, 0.092730812728405, 0.0463654063642025, 0.02318270318210125, 0.4698328375816345, 0.11745820939540863, 0.23491641879081726, 0.11745820939540863, 0.13385121524333954, 0.06692560762166977, 0.4015536308288574, 0.2007768154144287, 0.06692560762166977, 0.06692560762166977, 0.643673300743103, 0.21455776691436768, 0.18074385821819305, 0.18074385821819305, 0.542231559753418, 0.07538335770368576, 0.07538335770368576, 0.3580709397792816, 0.03769167885184288, 0.22615006566047668, 0.13192087411880493, 0.11307503283023834, 0.3604508638381958, 0.005379864014685154, 0.19905495643615723, 0.16139590740203857, 0.12373686581850052, 0.08069795370101929, 0.06455836445093155, 0.27018997073173523, 0.13509498536586761, 0.40528494119644165, 0.15497973561286926, 0.4649392068386078, 0.3099594712257385, 0.07672062516212463, 0.30688250064849854, 0.30688250064849854, 0.07672062516212463, 0.03836031258106232, 0.19180156290531158, 0.12008548527956009, 0.7205129265785217, 0.07823079079389572, 0.15646158158779144, 0.14081542193889618, 0.07823079079389572, 0.20340006053447723, 0.3442154824733734, 0.25151368975639343, 0.5784814953804016, 0.10060548037290573, 0.050302740186452866, 0.025151370093226433, 0.1820126324892044, 0.1213417574763298, 0.0606708787381649, 0.6067087650299072, 0.294161856174469, 0.26147720217704773, 0.2451348751783371, 0.0490269735455513, 0.06536930054426193, 0.016342325136065483, 0.06536930054426193, 0.06153780594468117, 0.07692225277423859, 0.24615122377872467, 0.015384451486170292, 0.19999785721302032, 0.2615356743335724, 0.15384450554847717, 0.1980292797088623, 0.15842342376708984, 0.35645270347595215, 0.15842342376708984, 0.07921171188354492, 0.07921171188354492, 0.5414759516716003, 0.21659038960933685, 0.10829519480466843, 0.5333881378173828, 0.17779605090618134, 0.17779605090618134, 0.5305082201957703, 0.08841803669929504, 0.2210450917482376, 0.08841803669929504, 0.04420901834964752, 0.030191997066140175, 0.5736479163169861, 0.030191997066140175, 0.2415359765291214, 0.030191997066140175, 0.09057598561048508, 0.14925655722618103, 0.2132236510515213, 0.14925655722618103, 0.29851311445236206, 0.10661182552576065, 0.06396709382534027, 0.04198301583528519, 0.1819263994693756, 0.14694055914878845, 0.013994338922202587, 0.20991508662700653, 0.32186979055404663, 0.08396603167057037, 0.23694677650928497, 0.47389355301856995, 0.11847338825464249, 0.11847338825464249, 0.09840630739927292, 0.5904378294944763, 0.09840630739927292, 0.19681261479854584, 0.21404701471328735, 0.1426980048418045, 0.4280940294265747, 0.07134900242090225, 0.5602428317070007, 0.1244984045624733, 0.06224920228123665, 0.1244984045624733, 0.06224920228123665, 0.8451973795890808, 0.12074247747659683, 0.6107050776481628, 0.1526762694120407, 0.1526762694120407, 0.35297125577926636, 0.5294568538665771, 0.6616501808166504, 0.1323300302028656, 0.1323300302028656, 0.07873795181512833, 0.6299036145210266, 0.15747590363025665, 0.03936897590756416, 0.07873795181512833, 0.04627988860011101, 0.04627988860011101, 0.04627988860011101, 0.4165189862251282, 0.13883966207504272, 0.09255977720022202, 0.18511955440044403, 0.6365646719932556, 0.1060941144824028, 0.1060941144824028, 0.4604577124118805, 0.4604577124118805, 0.1470012068748474, 0.6468053460121155, 0.058800484985113144, 0.058800484985113144, 0.058800484985113144, 0.029400242492556572, 0.19847819209098816, 0.06615939736366272, 0.46311578154563904, 0.19847819209098816, 0.03969921916723251, 0.6748867630958557, 0.23819532990455627, 0.45995256304740906, 0.45995256304740906, 0.07196196168661118, 0.14392392337322235, 0.3598097860813141, 0.43177175521850586, 0.8862028121948242, 0.037112317979335785, 0.14844927191734314, 0.37112316489219666, 0.07422463595867157, 0.18556158244609833, 0.14844927191734314, 0.1366109549999237, 0.6830548048019409, 0.7402061223983765, 0.10574373602867126, 0.10574373602867126, 0.540244996547699, 0.18008166551589966, 0.18008166551589966, 0.5323512554168701, 0.3549008369445801, 0.48884761333465576, 0.08147460222244263, 0.08147460222244263, 0.3258984088897705, 0.1502118706703186, 0.3004237413406372, 0.4506355822086334, 0.5384096503257751, 0.3589397668838501, 0.1064046248793602, 0.5320231318473816, 0.2128092497587204, 0.7048304080963135, 0.17620760202407837, 0.3606911301612854, 0.5410366654396057, 0.6541124582290649, 0.24529218673706055, 0.08176405727863312, 0.04088202863931656, 0.12096154689788818, 0.12096154689788818, 0.12096154689788818, 0.6048077344894409, 0.7898591756820679, 0.10552937537431717, 0.47488221526145935, 0.21105875074863434, 0.052764687687158585, 0.10552937537431717, 0.5353255271911621, 0.3568836748600006, 0.1337793916463852, 0.1337793916463852, 0.4013381600379944, 0.1337793916463852, 0.2402694970369339, 0.10297264158725739, 0.2402694970369339, 0.3432421386241913, 0.03432421386241913, 0.03432421386241913, 0.3886173665523529, 0.16655029356479645, 0.16655029356479645, 0.22206705808639526, 0.0759296864271164, 0.5315077900886536, 0.22778905928134918, 0.1518593728542328, 0.2191074788570404, 0.073035828769207, 0.073035828769207, 0.401697039604187, 0.0365179143846035, 0.1825895607471466, 0.08899388462305069, 0.17798776924610138, 0.26698166131973267, 0.44496944546699524, 0.5840873718261719, 0.11681748181581497, 0.23363496363162994, 0.2946396768093109, 0.4910661578178406, 0.19642646610736847, 0.1347646713256836, 0.0673823356628418, 0.33691170811653137, 0.33691170811653137, 0.5273963212966919, 0.17579875886440277, 0.17579875886440277, 0.05186234787106514, 0.15558704733848572, 0.10372469574213028, 0.6223481893539429, 0.9009416103363037, 0.3026915490627289, 0.4540373384952545, 0.25349318981170654, 0.025349318981170654, 0.07604795694351196, 0.2281438708305359, 0.07604795694351196, 0.17744523286819458, 0.20279455184936523, 0.2040574848651886, 0.04081149771809578, 0.04081149771809578, 0.2040574848651886, 0.02040574885904789, 0.14284023642539978, 0.3468977212905884, 0.32121458649635315, 0.09177559614181519, 0.22943899035453796, 0.04588779807090759, 0.27532678842544556, 0.10769212990999222, 0.5384606719017029, 0.10769212990999222, 0.10769212990999222, 0.43267837166786194, 0.5408479571342468, 0.6588714122772217, 0.13177427649497986, 0.13177427649497986, 0.1195814460515976, 0.1195814460515976, 0.4783257842063904, 0.1195814460515976, 0.1771439015865326, 0.5314317345619202, 0.1771439015865326, 0.13130782544612885, 0.6565391421318054, 0.23949238657951355, 0.4789847731590271, 0.23949238657951355, 0.0916406661272049, 0.8247660398483276, 0.1768057644367218, 0.1768057644367218, 0.530417263507843, 0.12677407264709473, 0.33806419372558594, 0.04225802421569824, 0.08451604843139648, 0.4225802421569824, 0.32266896963119507, 0.4609556794166565, 0.13828670978546143, 0.04609556868672371, 0.056310757994651794, 0.2815537750720978, 0.6194183230400085, 0.058088578283786774, 0.11617715656757355, 0.4356643557548523, 0.11617715656757355, 0.203310027718544, 0.058088578283786774, 0.11823879182338715, 0.4729551672935486, 0.11823879182338715, 0.11823879182338715, 0.2113683521747589, 0.10568417608737946, 0.10568417608737946, 0.6341050863265991, 0.07578293979167938, 0.15156587958335876, 0.07578293979167938, 0.15156587958335876, 0.07578293979167938, 0.4546976685523987, 0.5300275087356567, 0.17667582631111145, 0.17667582631111145, 0.17667582631111145, 0.17668108642101288, 0.17668108642101288, 0.5300432443618774, 0.892775297164917, 0.15182796120643616, 0.45548388361930847, 0.3036559224128723, 0.12050776183605194, 0.12050776183605194, 0.12050776183605194, 0.6025388240814209, 0.17943075299263, 0.35886150598526, 0.17943075299263, 0.08856446295976639, 0.08856446295976639, 0.17712892591953278, 0.17712892591953278, 0.35425785183906555, 0.23606844246387482, 0.47213688492774963, 0.11803422123193741, 0.11803422123193741, 0.526850163936615, 0.19756880402565002, 0.13171254098415375, 0.06585627049207687, 0.06585627049207687, 0.094552181661129, 0.32147741317749023, 0.03782087191939354, 0.13237304985523224, 0.34038785099983215, 0.01891043595969677, 0.03782087191939354, 0.05620525777339935, 0.1124105155467987, 0.28102630376815796, 0.3372315466403961, 0.05620525777339935, 0.05620525777339935, 0.6008602380752563, 0.028612393885850906, 0.17167435586452484, 0.08583717793226242, 0.08583717793226242, 0.6602336168289185, 0.13204671442508698, 0.13204671442508698, 0.8400187492370605, 0.10500234365463257, 0.3582991659641266, 0.5971652865409851, 0.7183322906494141, 0.17958307266235352, 0.0458499900996685, 0.5043498873710632, 0.2292499542236328, 0.0458499900996685, 0.183399960398674, 0.10592719167470932, 0.2648179829120636, 0.05296359583735466, 0.47667235136032104, 0.13411696255207062, 0.16764619946479797, 0.40235087275505066, 0.10058771818876266, 0.033529240638017654, 0.10058771818876266, 0.06705848127603531, 0.20389436185359955, 0.20389436185359955, 0.20389436185359955, 0.04077887162566185, 0.04077887162566185, 0.28545209765434265, 0.6752001047134399, 0.2700800597667694, 0.030753791332244873, 0.12301516532897949, 0.3690454959869385, 0.030753791332244873, 0.2152765393257141, 0.2152765393257141, 0.2889912724494934, 0.0481652095913887, 0.0481652095913887, 0.5779825448989868, 0.11793272942304611, 0.11793272942304611, 0.11793272942304611, 0.47173091769218445, 0.3033396005630493, 0.050556596368551254, 0.35389620065689087, 0.10111319273710251, 0.15166980028152466, 0.29393255710601807, 0.5878651142120361, 0.09797751903533936, 0.7083957195281982, 0.1180659607052803, 0.1180659607052803, 0.49949881434440613, 0.062437351793050766, 0.12487470358610153, 0.187312051653862, 0.062437351793050766, 0.13746868073940277, 0.824812114238739, 0.32073864340782166, 0.5345644354820251, 0.10691288113594055, 0.4312764108181, 0.4312764108181, 0.5439355373382568, 0.3626236915588379, 0.1524105817079544, 0.3048211634159088, 0.457231730222702, 0.8863099813461304, 0.1778557449579239, 0.7114229798316956, 0.1778709441423416, 0.1778709441423416, 0.533612847328186, 0.35654306411743164, 0.5348145961761475, 0.23870176076889038, 0.47740352153778076, 0.11935088038444519, 0.17581026256084442, 0.17581026256084442, 0.5274307727813721, 0.24693278968334198, 0.03405969589948654, 0.1788133978843689, 0.21287308633327484, 0.2299029380083084, 0.04257461801171303, 0.05108954384922981, 0.21535368263721466, 0.17228293418884277, 0.12921220064163208, 0.38763663172721863, 0.04307073354721069, 0.8861009478569031, 0.1315019428730011, 0.1315019428730011, 0.6575097441673279, 0.14804697036743164, 0.11843758076429367, 0.11843758076429367, 0.3849221467971802, 0.14804697036743164, 0.059218790382146835, 0.5852794051170349, 0.11705587804317474, 0.11705587804317474, 0.03910333290696144, 0.09775833040475845, 0.03910333290696144, 0.11730999499559402, 0.05865499749779701, 0.07820666581392288, 0.5865499377250671, 0.059808142483234406, 0.11961628496646881, 0.38875293731689453, 0.1495203673839569, 0.059808142483234406, 0.1794244349002838, 0.0897122174501419, 0.48538413643836975, 0.09245412051677704, 0.16179470717906952, 0.04622706025838852, 0.09245412051677704, 0.09245412051677704, 0.02311353012919426, 0.17880359292030334, 0.5364108085632324, 0.17880359292030334, 0.23339539766311646, 0.11669769883155823, 0.5834885239601135, 0.10961645841598511, 0.16442468762397766, 0.21923291683197021, 0.027404114603996277, 0.13702057301998138, 0.16442468762397766, 0.19182880222797394, 0.2071295529603958, 0.0828518271446228, 0.0828518271446228, 0.4142591059207916, 0.1657036542892456, 0.36106300354003906, 0.07601326704025269, 0.11401990056037903, 0.20903648436069489, 0.15202653408050537, 0.07601326704025269, 0.7442070245742798, 0.10631529241800308, 0.15439336001873016, 0.20071136951446533, 0.20071136951446533, 0.10807535797357559, 0.21615071594715118, 0.061757344752550125, 0.061757344752550125, 0.1461322009563446, 0.1461322009563446, 0.24355366826057434, 0.3409751355648041, 0.09742146730422974, 0.15188467502593994, 0.4556540548801422, 0.15188467502593994, 0.15188467502593994, 0.15188467502593994, 0.17992036044597626, 0.719681441783905, 0.17992036044597626, 0.08410198986530304, 0.2523059844970703, 0.2523059844970703, 0.1962379813194275, 0.14016997814178467, 0.028033997863531113, 0.056067995727062225, 0.35711485147476196, 0.5951914191246033, 0.12363620847463608, 0.28848448395729065, 0.08242414146661758, 0.16484828293323517, 0.12363620847463608, 0.24727241694927216, 0.04121207073330879, 0.18143585324287415, 0.18143585324287415, 0.5443075299263, 0.5287729501724243, 0.21150918304920197, 0.10575459152460098, 0.10575459152460098, 0.23495419323444366, 0.17621564865112305, 0.058738548308610916, 0.4111698269844055, 0.11747709661722183, 0.7738854289054871, 0.16194972395896912, 0.08097486197948456, 0.08097486197948456, 0.6477988958358765, 0.18062525987625122, 0.18062525987625122, 0.36125051975250244, 0.4501010775566101, 0.4501010775566101, 0.13336369395256042, 0.26672738790512085, 0.4000910520553589, 0.15446226298809052, 0.15446226298809052, 0.46338677406311035, 0.15446226298809052, 0.5864493250846863, 0.1759348064661026, 0.05864493548870087, 0.11728987097740173, 0.3531757891178131, 0.5297636985778809, 0.15466684103012085, 0.7733342051506042, 0.35939261317253113, 0.5390889048576355, 0.4369223713874817, 0.21846118569374084, 0.06241748109459877, 0.06241748109459877, 0.12483496218919754, 0.12483496218919754, 0.5894058346748352, 0.1178811714053154, 0.2357623428106308, 0.23645339906215668, 0.5911334753036499, 0.11822669953107834, 0.07029687613248825, 0.07029687613248825, 0.07029687613248825, 0.07029687613248825, 0.07029687613248825, 0.07029687613248825, 0.562375009059906, 0.1239076554775238, 0.14455893635749817, 0.4336768090724945, 0.0619538277387619, 0.14455893635749817, 0.0619538277387619, 0.13247822225093842, 0.39743465185165405, 0.26495644450187683, 0.13247822225093842, 0.4162536859512329, 0.09605854004621506, 0.2561561167240143, 0.09605854004621506, 0.16009756922721863, 0.2887212932109833, 0.6736830472946167, 0.24491195380687714, 0.04081865772604942, 0.6530985236167908, 0.04081865772604942, 0.5346203446388245, 0.09720370173454285, 0.04860185086727142, 0.04860185086727142, 0.1944074034690857, 0.04860185086727142, 0.28211212158203125, 0.14105606079101562, 0.4936962127685547, 0.03283312916755676, 0.03283312916755676, 0.5253300666809082, 0.164165660738945, 0.06566625833511353, 0.19699878990650177, 0.2407962679862976, 0.10319840162992477, 0.3095951974391937, 0.06879893690347672, 0.10319840162992477, 0.03439946845173836, 0.10319840162992477, 0.15194426476955414, 0.3038885295391083, 0.4558327794075012, 0.15200860798358917, 0.6080344319343567, 0.17729829251766205, 0.4136960208415985, 0.11819885671138763, 0.17729829251766205, 0.11819885671138763, 0.1325405389070511, 0.2319459319114685, 0.16567566990852356, 0.1325405389070511, 0.09940540045499802, 0.03313513472676277, 0.19881080090999603, 0.3231533467769623, 0.09232952445745468, 0.13849428296089172, 0.41548287868499756, 0.04616476222872734, 0.30114632844924927, 0.6022926568984985, 0.30173641443252563, 0.15086820721626282, 0.45260462164878845, 0.1775151640176773, 0.5325454473495483, 0.1775151640176773, 0.42379796504974365, 0.2383863627910614, 0.10594949126243591, 0.07946211844682693, 0.05297474563121796, 0.05297474563121796, 0.02648737281560898, 0.3538939654827118, 0.11796465516090393, 0.25278139114379883, 0.01685209386050701, 0.15166883170604706, 0.11796465516090393, 0.6102207899093628, 0.3051103949546814, 0.1525551974773407, 0.26399165391921997, 0.5279833078384399, 0.13199582695960999, 0.5798834562301636, 0.0966472402215004, 0.2899417281150818, 0.46391668915748596, 0.15463890135288239, 0.15463890135288239, 0.18190547823905945, 0.7276219129562378, 0.5332480669021606, 0.177749365568161, 0.177749365568161, 0.17414383590221405, 0.14511986076831818, 0.1160958930850029, 0.029023973271250725, 0.377311646938324, 0.17414383590221405, 0.3011290431022644, 0.6022580862045288, 0.10630247741937637, 0.7441173195838928, 0.17699047923088074, 0.17699047923088074, 0.5309714078903198, 0.4812646806240082, 0.1925058662891388, 0.0962529331445694, 0.0962529331445694, 0.025992348790168762, 0.3379005491733551, 0.15595409274101257, 0.0693129301071167, 0.1299617439508438, 0.25125938653945923, 0.017328232526779175, 0.5410947203636169, 0.21643789112567902, 0.10821894556283951, 0.1321088671684265, 0.6605443358421326, 0.264217734336853, 0.5294457674026489, 0.26472288370132446, 0.13236144185066223, 0.4758349657058716, 0.2379174828529358, 0.1189587414264679, 0.152827650308609, 0.152827650308609, 0.458482950925827, 0.152827650308609, 0.1646217405796051, 0.1646217405796051, 0.3703989088535309, 0.08231087028980255, 0.1646217405796051, 0.041155435144901276, 0.11456846445798874, 0.28642114996910095, 0.11456846445798874, 0.20049481093883514, 0.21004217863082886, 0.06683160364627838, 0.1315218210220337, 0.1315218210220337, 0.1315218210220337, 0.5260872840881348, 0.10286489874124527, 0.034288302063941956, 0.7543426156044006, 0.034288302063941956, 0.06857660412788391, 0.07898643612861633, 0.2172127068042755, 0.17771948873996735, 0.07898643612861633, 0.17771948873996735, 0.09873304516077042, 0.13822627067565918, 0.06704149395227432, 0.335207462310791, 0.06704149395227432, 0.335207462310791, 0.06704149395227432, 0.3269983232021332, 0.14014214277267456, 0.37371236085891724, 0.09342809021472931, 0.17922547459602356, 0.17922547459602356, 0.11948365718126297, 0.059741828590631485, 0.3584509491920471, 0.059741828590631485, 0.6582885384559631, 0.13165771961212158, 0.05377902090549469, 0.26889508962631226, 0.18822656571865082, 0.3495636284351349, 0.13444754481315613, 0.5386568903923035, 0.26932844519615173, 0.13186892867088318, 0.13186892867088318, 0.6593446135520935, 0.30238237977027893, 0.4535735845565796, 0.15119118988513947, 0.0844838097691536, 0.2534514367580414, 0.1689676195383072, 0.2534514367580414, 0.05632254108786583, 0.1689676195383072, 0.028161270543932915, 0.48647570610046387, 0.088450126349926, 0.044225063174963, 0.22112531960010529, 0.1326751857995987, 0.044225063174963, 0.15470099449157715, 0.15470099449157715, 0.15470099449157715, 0.46410298347473145, 0.5383918285369873, 0.3589278757572174, 0.538344144821167, 0.3588961064815521, 0.08846652507781982, 0.2653995752334595, 0.17693305015563965, 0.4423326253890991, 0.13287971913814545, 0.13287971913814545, 0.6643985509872437, 0.3529863953590393, 0.5883106589317322, 0.19872422516345978, 0.06624140590429306, 0.06624140590429306, 0.13248281180858612, 0.13248281180858612, 0.4636898636817932, 0.053590256720781326, 0.3751317858695984, 0.26795127987861633, 0.053590256720781326, 0.16077077388763428, 0.13565944135189056, 0.27131888270378113, 0.5426377654075623, 0.1431329995393753, 0.17891624569892883, 0.5367487072944641, 0.07156649976968765, 0.035783249884843826, 0.035783249884843826, 0.13091354072093964, 0.19637030363082886, 0.24546287953853607, 0.049092575907707214, 0.016364192590117455, 0.3436480462551117, 0.016364192590117455, 0.35957780480384827, 0.47943708300590515, 0.11985927075147629, 0.5316917300224304, 0.177230566740036, 0.177230566740036, 0.18184272944927216, 0.18184272944927216, 0.5455281734466553, 0.31791940331459045, 0.10597313940525055, 0.4238925576210022, 0.10096271336078644, 0.05048135668039322, 0.4543322026729584, 0.05048135668039322, 0.10096271336078644, 0.2524067759513855, 0.3028063476085663, 0.4542095363140106, 0.15140317380428314, 0.3365769386291504, 0.3846593499183655, 0.14424724876880646, 0.09616483747959137, 0.08860615640878677, 0.08860615640878677, 0.08860615640878677, 0.44303080439567566, 0.17721231281757355, 0.09655838459730148, 0.19311676919460297, 0.6759086847305298, 0.21821196377277374, 0.0818294882774353, 0.10910598188638687, 0.10910598188638687, 0.24548844993114471, 0.0818294882774353, 0.10910598188638687, 0.3200264573097229, 0.09778586030006409, 0.07111699134111404, 0.1422339826822281, 0.09778586030006409, 0.19557172060012817, 0.07111699134111404, 0.147428497672081, 0.18428561091423035, 0.2211427390575409, 0.2211427390575409, 0.18428561091423035, 0.15111315250396729, 0.15111315250396729, 0.6044526100158691, 0.6324602961540222, 0.10541005432605743, 0.21082010865211487, 0.20984134078025818, 0.6295239925384521, 0.15259918570518494, 0.15259918570518494, 0.6103967428207397, 0.5812312364578247, 0.29061561822891235, 0.09687186777591705, 0.19476418197155, 0.19476418197155, 0.06492139399051666, 0.30296650528907776, 0.17312371730804443, 0.021640464663505554, 0.04328092932701111, 0.2410052865743637, 0.0964021161198616, 0.4338095188140869, 0.0964021161198616, 0.0482010580599308, 0.6035751104354858, 0.3017875552177429, 0.4340134263038635, 0.5425167679786682, 0.13278676569461823, 0.19918015599250793, 0.06639338284730911, 0.33196690678596497, 0.16598345339298248, 0.033196691423654556, 0.033196691423654556, 0.3145979046821594, 0.22879847884178162, 0.20019866526126862, 0.028599809855222702, 0.028599809855222702, 0.22879847884178162, 0.07599085569381714, 0.22797256708145142, 0.15198171138763428, 0.45594513416290283, 0.07599085569381714, 0.08500022441148758, 0.08500022441148758, 0.25500068068504333, 0.4675012230873108, 0.08500022441148758, 0.10744372010231018, 0.26860928535461426, 0.37605300545692444, 0.05372186005115509, 0.10744372010231018, 0.05372186005115509, 0.17777888476848602, 0.17777888476848602, 0.35555776953697205, 0.17777888476848602, 0.30674368143081665, 0.21236100792884827, 0.14157401025295258, 0.07078700512647629, 0.09438267350196838, 0.07078700512647629, 0.09438267350196838, 0.1524655967950821, 0.6098623871803284, 0.1524655967950821, 0.7700197696685791, 0.09625247120857239, 0.11155552417039871, 0.44622209668159485, 0.055777762085199356, 0.2788888216018677, 0.055777762085199356, 0.055777762085199356, 0.08090965449810028, 0.08090965449810028, 0.8090965151786804, 0.17919541895389557, 0.05973180755972862, 0.35839083790779114, 0.05973180755972862, 0.35839083790779114, 0.26545119285583496, 0.13272559642791748, 0.5309023857116699, 0.5338581800460815, 0.15253092348575592, 0.07626546174287796, 0.22879637777805328, 0.7051860690116882, 0.17629651725292206, 0.5286504626274109, 0.26432523131370544, 0.13216261565685272, 0.04236461967229843, 0.16945847868919373, 0.08472923934459686, 0.33891695737838745, 0.1270938515663147, 0.2541877031326294, 0.31169137358665466, 0.08905468136072159, 0.44527339935302734, 0.08905468136072159, 0.051609888672828674, 0.10321977734565735, 0.2064395546913147, 0.15482966601848602, 0.051609888672828674, 0.4128791093826294, 0.051609888672828674, 0.1323396861553192, 0.48524555563926697, 0.1323396861553192, 0.1323396861553192, 0.04411322996020317, 0.04411322996020317, 0.7048110961914062, 0.2013746052980423, 0.10068730264902115, 0.1325947642326355, 0.795568585395813, 0.1721181571483612, 0.3442363142967224, 0.1721181571483612, 0.1721181571483612, 0.1290886253118515, 0.0715819001197815, 0.0715819001197815, 0.35790950059890747, 0.42949140071868896, 0.0715819001197815, 0.34127548336982727, 0.03791949898004532, 0.1895975023508072, 0.2275169938802719, 0.15167799592018127, 0.03791949898004532, 0.260514497756958, 0.05210290104150772, 0.23446305096149445, 0.10420580208301544, 0.18236015737056732, 0.10420580208301544, 0.05210290104150772, 0.133351132273674, 0.533404529094696, 0.133351132273674, 0.133351132273674, 0.16606052219867706, 0.08303026109933853, 0.7472723722457886, 0.08303026109933853, 0.527810275554657, 0.351873517036438], \"Term\": [\"acabado\", \"acabado\", \"acabado\", \"aceptable\", \"aceptable\", \"acero\", \"acero\", \"adapta\", \"adapta\", \"adem\\u00e1s\", \"adem\\u00e1s\", \"adem\\u00e1s\", \"adem\\u00e1s\", \"adem\\u00e1s\", \"adem\\u00e1s\", \"adem\\u00e1s\", \"ahora\", \"ahora\", \"ahora\", \"ahora\", \"ahora\", \"ahora\", \"ahora\", \"ajusta\", \"ajusta\", \"ajusta\", \"ajustar\", \"ajustar\", \"ajustar\", \"alguien\", \"alguien\", \"alguien\", \"amazon\", \"amazon\", \"amazon\", \"amazon\", \"amazon\", \"amazon\", \"anillo\", \"anillo\", \"anillo\", \"anuncio\", \"apenas\", \"apenas\", \"asi\", \"asi\", \"asi\", \"asi\", \"as\\u00ed\", \"as\\u00ed\", \"as\\u00ed\", \"as\\u00ed\", \"as\\u00ed\", \"as\\u00ed\", \"aun\", \"aun\", \"aun\", \"aun\", \"aunque\", \"aunque\", \"aunque\", \"aunque\", \"aunque\", \"aunque\", \"aunque\", \"auriculares\", \"auriculares\", \"auriculares\", \"auriculares\", \"a\\u00fan\", \"a\\u00fan\", \"a\\u00fan\", \"a\\u00fan\", \"a\\u00fan\", \"a\\u00fan\", \"baja\", \"baja\", \"bajo\", \"bajo\", \"bajo\", \"bastante\", \"bastante\", \"bastante\", \"bastante\", \"bastante\", \"bastante\", \"bastante\", \"bien\", \"bien\", \"bien\", \"bien\", \"bien\", \"bien\", \"bien\", \"bolsa\", \"bolsa\", \"bolsa\", \"bolsita\", \"bolsita\", \"bolsita\", \"bonita\", \"bonita\", \"bonita\", \"bonita\", \"bonita\", \"bonita\", \"bonitas\", \"bonitas\", \"bonito\", \"bonito\", \"bonito\", \"bonito\", \"bonito\", \"bonito\", \"bonitos\", \"bonitos\", \"bonitos\", \"bonitos\", \"bonitos\", \"botones\", \"botones\", \"botones\", \"botones\", \"buen\", \"buen\", \"buen\", \"buen\", \"buen\", \"buen\", \"buen\", \"buena\", \"buena\", \"buena\", \"buena\", \"buena\", \"buena\", \"buena\", \"bueno\", \"bueno\", \"bueno\", \"bueno\", \"bueno\", \"bueno\", \"buenos\", \"buenos\", \"buenos\", \"buscaba\", \"buscaba\", \"buscaba\", \"cable\", \"cable\", \"cable\", \"cable\", \"cable\", \"cadena\", \"cadena\", \"cadena\", \"cadena\", \"cadena\", \"cadena\", \"caja\", \"caja\", \"caja\", \"caja\", \"caja\", \"caja\", \"calidad\", \"calidad\", \"calidad\", \"calidad\", \"calidad\", \"calidad\", \"calidad\", \"cargar\", \"cargar\", \"cargar\", \"cargar\", \"caro\", \"caro\", \"caro\", \"caro\", \"casi\", \"casi\", \"casi\", \"casi\", \"caso\", \"caso\", \"caso\", \"caso\", \"caso\", \"castellano\", \"castellano\", \"cerrar\", \"cerrar\", \"cerrar\", \"certificado\", \"certificado\", \"cierra\", \"cierra\", \"cierra\", \"colgante\", \"colgante\", \"colgante\", \"colgante\", \"colgante\", \"color\", \"color\", \"color\", \"color\", \"color\", \"color\", \"color\", \"colores\", \"colores\", \"colores\", \"completo\", \"completo\", \"compra\", \"compra\", \"compra\", \"compra\", \"compra\", \"compra\", \"comprado\", \"comprado\", \"comprado\", \"comprado\", \"comprar\", \"comprar\", \"comprar\", \"compras\", \"compras\", \"compre\", \"compre\", \"compre\", \"compre\", \"compro\", \"compr\\u00e9\", \"compr\\u00e9\", \"compr\\u00e9\", \"compr\\u00e9\", \"compr\\u00e9\", \"compr\\u00e9\", \"condiciones\", \"condiciones\", \"conectar\", \"conectar\", \"conectar\", \"conjunto\", \"conjunto\", \"conjunto\", \"consolas\", \"consolas\", \"contenta\", \"contenta\", \"contenta\", \"contenta\", \"corta\", \"corta\", \"corta\", \"costado\", \"costado\", \"cualquier\", \"cualquier\", \"cualquier\", \"cuello\", \"cuello\", \"cuesta\", \"cuesta\", \"cumple\", \"cumple\", \"cumple\", \"cumple\", \"c\\u00f3mo\", \"c\\u00f3mo\", \"c\\u00f3mo\", \"c\\u00f3mo\", \"c\\u00f3modos\", \"da\", \"da\", \"da\", \"da\", \"da\", \"debido\", \"debido\", \"dejado\", \"dejado\", \"dejado\", \"dejado\", \"demasiado\", \"demasiado\", \"demasiado\", \"demasiado\", \"demasiado\", \"demasiado\", \"dem\\u00e1s\", \"dem\\u00e1s\", \"dem\\u00e1s\", \"dem\\u00e1s\", \"descripci\\u00f3n\", \"descripci\\u00f3n\", \"descripci\\u00f3n\", \"descripci\\u00f3n\", \"despu\\u00e9s\", \"despu\\u00e9s\", \"despu\\u00e9s\", \"despu\\u00e9s\", \"despu\\u00e9s\", \"despu\\u00e9s\", \"devolver\", \"devolver\", \"devolver\", \"devolver\", \"devolverlo\", \"devolverlo\", \"devolverlo\", \"devuelto\", \"devuelto\", \"devuelto\", \"dia\", \"dia\", \"dia\", \"dia\", \"dio\", \"dio\", \"dio\", \"dise\\u00f1o\", \"dise\\u00f1o\", \"dise\\u00f1o\", \"dise\\u00f1o\", \"divertido\", \"dorado\", \"dorado\", \"dos\", \"dos\", \"dos\", \"dos\", \"dos\", \"dos\", \"dos\", \"d\\u00eda\", \"d\\u00eda\", \"d\\u00eda\", \"d\\u00eda\", \"d\\u00eda\", \"d\\u00eda\", \"d\\u00eda\", \"d\\u00edas\", \"d\\u00edas\", \"d\\u00edas\", \"d\\u00edas\", \"d\\u00edas\", \"edici\\u00f3n\", \"edici\\u00f3n\", \"edici\\u00f3n\", \"edici\\u00f3n\", \"elegante\", \"elegante\", \"elegantes\", \"elegantes\", \"elegantes\", \"embalaje\", \"embalaje\", \"embalaje\", \"embalaje\", \"empresa\", \"empresa\", \"empresa\", \"encajan\", \"encajan\", \"encanta\", \"encanta\", \"encanta\", \"encant\\u00f3\", \"encant\\u00f3\", \"entra\", \"entra\", \"entra\", \"entrega\", \"entrega\", \"entrega\", \"entrega\", \"entrega\", \"env\\u00edo\", \"env\\u00edo\", \"env\\u00edo\", \"env\\u00edo\", \"espa\\u00f1ol\", \"espa\\u00f1ol\", \"espa\\u00f1ol\", \"esperaba\", \"esperaba\", \"esperaba\", \"esperaba\", \"esperaba\", \"esperaba\", \"esperado\", \"esperado\", \"esperado\", \"esperado\", \"esperando\", \"esperando\", \"esperando\", \"esperando\", \"espero\", \"espero\", \"espero\", \"espero\", \"espero\", \"espero\", \"exactamente\", \"exactamente\", \"exactamente\", \"exactamente\", \"excesivamente\", \"excesivamente\", \"excesivamente\", \"expectativas\", \"fan\", \"fan\", \"fan\", \"fatal\", \"fatal\", \"fatal\", \"fatal\", \"fea\", \"fea\", \"fea\", \"fin\", \"fin\", \"fin\", \"fin\", \"fin\", \"fino\", \"fino\", \"fino\", \"fino\", \"forma\", \"forma\", \"forma\", \"forma\", \"forma\", \"foto\", \"foto\", \"foto\", \"foto\", \"foto\", \"foto\", \"foto\", \"fotos\", \"fotos\", \"fotos\", \"fotos\", \"fotos\", \"fotos\", \"funciona\", \"funciona\", \"funciona\", \"funciona\", \"funciona\", \"funcionar\", \"funcionar\", \"funcionar\", \"f\\u00e1cil\", \"f\\u00e1cil\", \"genial\", \"genial\", \"gente\", \"gente\", \"gracias\", \"gracias\", \"gracias\", \"gracias\", \"gracias\", \"gran\", \"gran\", \"gran\", \"gran\", \"grande\", \"grande\", \"grande\", \"grande\", \"grande\", \"grande\", \"grande\", \"grandes\", \"grandes\", \"grandes\", \"grandes\", \"grandes\", \"grandes\", \"gr\\u00e1ficos\", \"gr\\u00e1ficos\", \"gustado\", \"gustado\", \"gustado\", \"gustado\", \"gustado\", \"gustado\", \"gusto\", \"gusto\", \"gusto\", \"gusto\", \"haber\", \"haber\", \"haber\", \"haber\", \"hacer\", \"hacer\", \"hacer\", \"hacer\", \"hacer\", \"hecho\", \"hecho\", \"hecho\", \"hija\", \"hija\", \"hija\", \"hijo\", \"hijo\", \"hijo\", \"hijo\", \"hijo\", \"hora\", \"hora\", \"horas\", \"horas\", \"horas\", \"ideal\", \"ideal\", \"igualmente\", \"igualmente\", \"imagen\", \"imagen\", \"imagen\", \"ingles\", \"ingl\\u00e9s\", \"ingl\\u00e9s\", \"interesante\", \"interesante\", \"interesante\", \"ir\", \"ir\", \"italiano\", \"italiano\", \"italiano\", \"juegazo\", \"juegazo\", \"juegazo\", \"juego\", \"juego\", \"juego\", \"juego\", \"juego\", \"juego\", \"juego\", \"juegos\", \"juegos\", \"juegos\", \"juegos\", \"juegos\", \"jugabilidad\", \"jugando\", \"jugando\", \"jugando\", \"jugar\", \"jugar\", \"jugar\", \"jugar\", \"jugar\", \"jugar\", \"lado\", \"lado\", \"lado\", \"llegado\", \"llegado\", \"llegado\", \"llegado\", \"llegado\", \"llegado\", \"llegado\", \"llego\", \"llego\", \"llego\", \"llego\", \"llego\", \"llego\", \"llego\", \"lleg\\u00f3\", \"lleg\\u00f3\", \"lleg\\u00f3\", \"lleg\\u00f3\", \"lleg\\u00f3\", \"lleg\\u00f3\", \"lleg\\u00f3\", \"llevas\", \"llevas\", \"llevas\", \"llevo\", \"llevo\", \"llevo\", \"mal\", \"mal\", \"mal\", \"mal\", \"mal\", \"mal\", \"mal\", \"mala\", \"mala\", \"mala\", \"mala\", \"mala\", \"mando\", \"mando\", \"mando\", \"mando\", \"mando\", \"mando\", \"manera\", \"manera\", \"mas\", \"mas\", \"mas\", \"mas\", \"mas\", \"mas\", \"mas\", \"material\", \"material\", \"material\", \"material\", \"material\", \"mayor\", \"mayor\", \"mayor\", \"mayor\", \"mayor\", \"media\", \"media\", \"media\", \"mejor\", \"mejor\", \"mejor\", \"mejor\", \"mejor\", \"mejor\", \"mejor\", \"mejores\", \"mejores\", \"menos\", \"menos\", \"menos\", \"menos\", \"menos\", \"menos\", \"menos\", \"mientras\", \"mientras\", \"mientras\", \"misma\", \"misma\", \"misma\", \"misma\", \"muchas\", \"muchas\", \"muchas\", \"muchas\", \"muchas\", \"much\\u00edsimo\", \"mujer\", \"mujer\", \"mujer\", \"mujer\", \"mu\\u00f1eca\", \"mu\\u00f1eca\", \"mu\\u00f1eca\", \"m\\u00f3viles\", \"m\\u00f3viles\", \"negro\", \"negro\", \"negro\", \"ningun\", \"ningun\", \"ningun\", \"ningun\", \"nintendo\", \"nintendo\", \"nintendo\", \"nintendo\", \"ni\\u00f1os\", \"ni\\u00f1os\", \"one\", \"one\", \"opinar\", \"opinar\", \"original\", \"original\", \"original\", \"original\", \"original\", \"original\", \"originales\", \"originales\", \"originales\", \"pantalla\", \"pantalla\", \"pantalla\", \"paquete\", \"paquete\", \"paquete\", \"paquete\", \"paquete\", \"paquete\", \"paquete\", \"parece\", \"parece\", \"parece\", \"parece\", \"parece\", \"parece\", \"parecido\", \"parecido\", \"parecido\", \"parecido\", \"parte\", \"parte\", \"parte\", \"parte\", \"parte\", \"pc\", \"pc\", \"pedido\", \"pedido\", \"pedido\", \"pedido\", \"pedir\", \"pedir\", \"pedir\", \"pedir\", \"pedir\", \"pedir\", \"ped\\u00ed\", \"ped\\u00ed\", \"ped\\u00ed\", \"pena\", \"pena\", \"pena\", \"pena\", \"pena\", \"pena\", \"pendientes\", \"pendientes\", \"pendientes\", \"pendientes\", \"pendientes\", \"pendientes\", \"pendientes\", \"pens\\u00e9\", \"pens\\u00e9\", \"pens\\u00e9\", \"peor\", \"peor\", \"peque\\u00f1a\", \"peque\\u00f1a\", \"peque\\u00f1a\", \"peque\\u00f1a\", \"peque\\u00f1a\", \"peque\\u00f1o\", \"peque\\u00f1o\", \"peque\\u00f1o\", \"peque\\u00f1o\", \"peque\\u00f1o\", \"peque\\u00f1o\", \"peque\\u00f1o\", \"peque\\u00f1os\", \"peque\\u00f1os\", \"peque\\u00f1os\", \"peque\\u00f1os\", \"peque\\u00f1os\", \"perdido\", \"perdido\", \"perdi\\u00f3\", \"perdi\\u00f3\", \"perdi\\u00f3\", \"perfecta\", \"perfecta\", \"perfecta\", \"perfectamente\", \"perfectamente\", \"perfectamente\", \"perfectamente\", \"perfectamente\", \"perfectamente\", \"perfectamente\", \"perfecto\", \"perfecto\", \"perfecto\", \"perfecto\", \"perfecto\", \"perfecto\", \"perlas\", \"perlas\", \"perlas\", \"pesan\", \"pesan\", \"pesan\", \"piedra\", \"piedra\", \"piedra\", \"piedras\", \"piedras\", \"piedras\", \"piel\", \"piel\", \"pienso\", \"pienso\", \"pienso\", \"plata\", \"plata\", \"plata\", \"plata\", \"plata\", \"plata\", \"plazo\", \"plazo\", \"poca\", \"poca\", \"pocas\", \"pocas\", \"pocas\", \"pongo\", \"pongo\", \"pongo\", \"pongo\", \"precio\", \"precio\", \"precio\", \"precio\", \"precio\", \"precio\", \"precio\", \"preciosa\", \"preciosa\", \"preciosa\", \"precioso\", \"precioso\", \"precioso\", \"preciosos\", \"preciosos\", \"preciosos\", \"presentaci\\u00f3n\", \"presentaci\\u00f3n\", \"presentaci\\u00f3n\", \"primera\", \"primera\", \"primera\", \"primera\", \"problema\", \"problema\", \"problema\", \"problema\", \"problema\", \"problema\", \"producto\", \"producto\", \"producto\", \"producto\", \"producto\", \"producto\", \"productos\", \"productos\", \"productos\", \"productos\", \"ps\", \"ps\", \"ps\", \"ps\", \"ps\", \"puede\", \"puede\", \"puede\", \"puede\", \"puede\", \"puede\", \"puede\", \"pueden\", \"pueden\", \"pueden\", \"pueden\", \"pueden\", \"puedo\", \"puedo\", \"puedo\", \"puedo\", \"puesto\", \"puesto\", \"puesto\", \"puesto\", \"puesto\", \"puesto\", \"puestos\", \"puestos\", \"pulsera\", \"pulsera\", \"pulsera\", \"pulsera\", \"pulsera\", \"pulseras\", \"pulseras\", \"puse\", \"puse\", \"puse\", \"p\\u00e9simo\", \"p\\u00e9simo\", \"p\\u00e9simo\", \"queda\", \"queda\", \"queda\", \"queda\", \"queda\", \"queda\", \"queda\", \"quedan\", \"quedan\", \"quedan\", \"quedan\", \"quedan\", \"quedan\", \"quieres\", \"quieres\", \"quieres\", \"quieres\", \"quiz\\u00e1\", \"quiz\\u00e1\", \"rapidez\", \"rapidez\", \"rapido\", \"rapido\", \"rapido\", \"rapido\", \"realidad\", \"realidad\", \"realidad\", \"realmente\", \"realmente\", \"recibido\", \"recibido\", \"recibido\", \"recibido\", \"recibido\", \"recibido\", \"recomendable\", \"recomendable\", \"recomendable\", \"recomendable\", \"recomendable\", \"recomendado\", \"recomendado\", \"recomendado\", \"recomiendo\", \"recomiendo\", \"recomiendo\", \"recomiendo\", \"recomiendo\", \"recomiendo\", \"regalo\", \"regalo\", \"regalo\", \"regalo\", \"regalo\", \"regalo\", \"regalo\", \"relaci\\u00f3n\", \"relaci\\u00f3n\", \"relaci\\u00f3n\", \"repartidor\", \"repartidor\", \"repartidor\", \"rompio\", \"rompio\", \"rompio\", \"rompi\\u00f3\", \"rompi\\u00f3\", \"rompi\\u00f3\", \"roto\", \"roto\", \"roto\", \"roto\", \"roto\", \"roto\", \"ruido\", \"ruido\", \"ruido\", \"r\\u00e1pido\", \"r\\u00e1pido\", \"r\\u00e1pido\", \"r\\u00e1pido\", \"sale\", \"sale\", \"sale\", \"sale\", \"sale\", \"semana\", \"semana\", \"semana\", \"ser\", \"ser\", \"ser\", \"ser\", \"ser\", \"ser\", \"ser\", \"si\", \"si\", \"si\", \"si\", \"si\", \"si\", \"si\", \"sido\", \"sido\", \"sido\", \"sido\", \"sido\", \"siendo\", \"siendo\", \"siendo\", \"sigue\", \"sigue\", \"sigue\", \"sirve\", \"sirve\", \"sistema\", \"sistema\", \"sistema\", \"sitio\", \"sitio\", \"sitio\", \"solo\", \"solo\", \"solo\", \"solo\", \"solo\", \"solo\", \"solo\", \"switch\", \"switch\", \"switch\", \"switch\", \"switch\", \"s\\u00e9\", \"s\\u00e9\", \"tacto\", \"tacto\", \"tal\", \"tal\", \"tal\", \"tal\", \"tal\", \"tal\", \"tal\", \"tama\\u00f1o\", \"tama\\u00f1o\", \"tama\\u00f1o\", \"tama\\u00f1o\", \"tama\\u00f1o\", \"tama\\u00f1o\", \"tampoco\", \"tampoco\", \"tampoco\", \"tampoco\", \"tampoco\", \"tan\", \"tan\", \"tan\", \"tan\", \"tan\", \"tener\", \"tener\", \"tener\", \"tener\", \"tener\", \"tener\", \"tenia\", \"tenia\", \"tenia\", \"tenia\", \"tiempo\", \"tiempo\", \"tiempo\", \"tiempo\", \"tiempo\", \"tiempo\", \"tiempo\", \"tiendas\", \"tiendas\", \"tiendas\", \"toda\", \"toda\", \"todas\", \"todas\", \"todas\", \"todas\", \"todas\", \"todas\", \"todav\\u00eda\", \"todav\\u00eda\", \"todav\\u00eda\", \"trae\", \"trae\", \"trae\", \"trae\", \"trae\", \"transporte\", \"transporte\", \"transporte\", \"tres\", \"tres\", \"tres\", \"tres\", \"usado\", \"usado\", \"usb\", \"usb\", \"usb\", \"uso\", \"uso\", \"uso\", \"uso\", \"uso\", \"uso\", \"va\", \"va\", \"va\", \"va\", \"vale\", \"vale\", \"vale\", \"vale\", \"vale\", \"vale\", \"vale\", \"ve\", \"ve\", \"ve\", \"ve\", \"ve\", \"ve\", \"vendedor\", \"vendedor\", \"vendedor\", \"venia\", \"venia\", \"verdad\", \"verdad\", \"verdad\", \"verdad\", \"verdad\", \"versi\\u00f3n\", \"versi\\u00f3n\", \"versi\\u00f3n\", \"versi\\u00f3n\", \"versi\\u00f3n\", \"vez\", \"vez\", \"vez\", \"vez\", \"vez\", \"vez\", \"viene\", \"viene\", \"viene\", \"viene\", \"viene\", \"viene\", \"viene\", \"volver\\u00eda\", \"volver\\u00eda\", \"volver\\u00eda\", \"volver\\u00eda\", \"xbox\", \"xbox\", \"xbox\", \"xbox\", \"\\u00fanica\", \"\\u00fanica\"]}, \"R\": 30, \"lambda.step\": 0.01, \"plot.opts\": {\"xlab\": \"PC1\", \"ylab\": \"PC2\"}, \"topic.order\": [6, 3, 5, 7, 2, 1, 4]};\n",
       "\n",
       "function LDAvis_load_lib(url, callback){\n",
       "  var s = document.createElement('script');\n",
       "  s.src = url;\n",
       "  s.async = true;\n",
       "  s.onreadystatechange = s.onload = callback;\n",
       "  s.onerror = function(){console.warn(\"failed to load library \" + url);};\n",
       "  document.getElementsByTagName(\"head\")[0].appendChild(s);\n",
       "}\n",
       "\n",
       "if(typeof(LDAvis) !== \"undefined\"){\n",
       "   // already loaded: just create the visualization\n",
       "   !function(LDAvis){\n",
       "       new LDAvis(\"#\" + \"ldavis_el740420744333052808426371392\", ldavis_el740420744333052808426371392_data);\n",
       "   }(LDAvis);\n",
       "}else if(typeof define === \"function\" && define.amd){\n",
       "   // require.js is available: use it to load d3/LDAvis\n",
       "   require.config({paths: {d3: \"https://cdnjs.cloudflare.com/ajax/libs/d3/3.5.5/d3.min\"}});\n",
       "   require([\"d3\"], function(d3){\n",
       "      window.d3 = d3;\n",
       "      LDAvis_load_lib(\"https://cdn.rawgit.com/bmabey/pyLDAvis/files/ldavis.v1.0.0.js\", function(){\n",
       "        new LDAvis(\"#\" + \"ldavis_el740420744333052808426371392\", ldavis_el740420744333052808426371392_data);\n",
       "      });\n",
       "    });\n",
       "}else{\n",
       "    // require.js not available: dynamically load d3 & LDAvis\n",
       "    LDAvis_load_lib(\"https://cdnjs.cloudflare.com/ajax/libs/d3/3.5.5/d3.min.js\", function(){\n",
       "         LDAvis_load_lib(\"https://cdn.rawgit.com/bmabey/pyLDAvis/files/ldavis.v1.0.0.js\", function(){\n",
       "                 new LDAvis(\"#\" + \"ldavis_el740420744333052808426371392\", ldavis_el740420744333052808426371392_data);\n",
       "            })\n",
       "         });\n",
       "}\n",
       "</script>"
      ],
      "text/plain": [
       "<IPython.core.display.HTML object>"
      ]
     },
     "execution_count": 14,
     "metadata": {},
     "output_type": "execute_result"
    }
   ],
   "source": [
    "import pyLDAvis.gensim\n",
    "lda_display = pyLDAvis.gensim.prepare(model, corpus, dictionary, sort_topics=True)\n",
    "pyLDAvis.display(lda_display)"
   ]
  }
 ],
 "metadata": {
  "kernelspec": {
   "display_name": "Python 3",
   "language": "python",
   "name": "python3"
  },
  "language_info": {
   "codemirror_mode": {
    "name": "ipython",
    "version": 3
   },
   "file_extension": ".py",
   "mimetype": "text/x-python",
   "name": "python",
   "nbconvert_exporter": "python",
   "pygments_lexer": "ipython3",
   "version": "3.8.3"
  }
 },
 "nbformat": 4,
 "nbformat_minor": 4
}
